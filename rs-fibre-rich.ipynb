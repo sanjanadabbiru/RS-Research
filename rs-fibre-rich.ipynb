{
 "cells": [
  {
   "cell_type": "code",
   "execution_count": 1,
   "metadata": {},
   "outputs": [],
   "source": [
    "import requests\n",
    "r_fr= requests.get(\"https://food.ndtv.com/health/fibre-rich-foods-for-diabetes-5-foods-that-manage-blood-sugar-levels-1881690\")"
   ]
  },
  {
   "cell_type": "code",
   "execution_count": 2,
   "metadata": {
    "scrolled": true
   },
   "outputs": [
    {
     "name": "stdout",
     "output_type": "stream",
     "text": [
      "<!DOCTYPE HTML PUBLIC \"-//W3C//DTD HTML 4.01 Transitional//EN\" \"http://www.w3.org/TR/html4/loose.dtd\"><html><head itemscope itemtype=\"https://schema.org/WebPage\"><meta http-equiv=\"Content-Type\" content=\"text/html; charset=utf-8\" /><meta http-equiv=\"X-UA-Compatible\" content=\"IE=edge\" ><meta name=\"apple-itunes-app\" content=\"app-id=545694875\" ><link rel=\"icon\" type=\"image/x-icon\" href=\"https://food.ndtv.com/favicon.ico?v=01.20200622\"><!--<link rel=\"apple-touch-icon\" sizes=\"114x114\" href=\"https://food.ndtv.com/apple-touch-icon-114-new.png\">--><link rel=\"apple-touch-icon\" sizes=\"144x144\" href=\"http\n"
     ]
    }
   ],
   "source": [
    "print(r_fr.text[0:600])"
   ]
  },
  {
   "cell_type": "code",
   "execution_count": 3,
   "metadata": {},
   "outputs": [],
   "source": [
    "from bs4 import BeautifulSoup\n",
    "soup_fr=BeautifulSoup(r_fr.text,'html.parser')"
   ]
  },
  {
   "cell_type": "code",
   "execution_count": 4,
   "metadata": {},
   "outputs": [],
   "source": [
    "res_fr = soup_fr.find_all('strong')"
   ]
  },
  {
   "cell_type": "code",
   "execution_count": 5,
   "metadata": {},
   "outputs": [
    {
     "data": {
      "text/plain": [
       "16"
      ]
     },
     "execution_count": 5,
     "metadata": {},
     "output_type": "execute_result"
    }
   ],
   "source": [
    "len(res_fr)"
   ]
  },
  {
   "cell_type": "code",
   "execution_count": 6,
   "metadata": {},
   "outputs": [
    {
     "data": {
      "text/plain": [
       "[<strong>(Also Read -<span itemscope=\"\" itemtype=\"https://schema.org/NewsArticle\"><a href=\"https://food.ndtv.com/food-drinks/how-to-control-diabetes-naturally-5-remedies-to-control-your-sugar-levels-1847527\">How To Control Diabetes Naturally: 5 Remedies To Manage Your Sugar Levels</a>)</span></strong>,\n",
       " <strong>Here Are 5 Foods That Help Manage Diabetes</strong>,\n",
       " <strong>Lentils</strong>,\n",
       " <strong>(Also Read -<span itemscope=\"\" itemtype=\"https://schema.org/NewsArticle\"><a href=\"https://food.ndtv.com/food-drinks/5-genius-ways-to-use-lentils-in-your-cooking-beyond-plain-ol-dal-1642335\">5 Genius Ways To Use Lentils in Your Cooking Beyond Plain Ol' Dal</a>)</span></strong>,\n",
       " <strong>Flaxseed</strong>,\n",
       " <strong> (Also Read -<span itemscope=\"\" itemtype=\"https://schema.org/NewsArticle\"><a href=\"https://food.ndtv.com/food-drinks/amazing-benefits-of-having-flaxseed-ladoos-in-winters-1795433\">Amazing Benefits Of Having Flaxseed (Alsi) Ladoos In Winters</a>)</span></strong>,\n",
       " <strong>Whole Grains</strong>,\n",
       " <strong>(Also Read -<span itemscope=\"\" itemtype=\"https://schema.org/NewsArticle\"><a href=\"https://food.ndtv.com/health/want-to-live-longer-eat-more-whole-grains-1418990\"> Want to Live Longer? Eat More Whole Grains</a>)</span></strong>,\n",
       " <strong>Fenugreek</strong>,\n",
       " <strong>(Also Read -<span itemscope=\"\" itemtype=\"https://schema.org/NewsArticle\"><a href=\"https://food.ndtv.com/lists/10-best-methi-recipes-740827\">10 Best Methi Recipes</a>)</span></strong>,\n",
       " <strong>Guava</strong>,\n",
       " <strong>(Also Read -<span itemscope=\"\" itemtype=\"https://schema.org/NewsArticle\"><a href=\"https://food.ndtv.com/beauty/guava-leaves-for-hair-growth-how-to-use-this-ancient-beauty-remedy-1629193\">Guava Leaves for Hair Growth: How to Use This Ancient Beauty Remedy</a>)</span></strong>,\n",
       " <strong>Fiber</strong>,\n",
       " <strong>Diabetes</strong>,\n",
       " <strong>Blood Sugar Control</strong>,\n",
       " <strong>Fibre Rich Food</strong>]"
      ]
     },
     "execution_count": 6,
     "metadata": {},
     "output_type": "execute_result"
    }
   ],
   "source": [
    "res_fr\n"
   ]
  },
  {
   "cell_type": "code",
   "execution_count": 13,
   "metadata": {},
   "outputs": [],
   "source": [
    "res_fr_final = []\n",
    "indices = [2,4,6,8,10]\n",
    "\n",
    "for index in indices:\n",
    "    res_fr_final.append(res_fr[index].text)"
   ]
  },
  {
   "cell_type": "code",
   "execution_count": 14,
   "metadata": {},
   "outputs": [
    {
     "data": {
      "text/plain": [
       "['Lentils', 'Flaxseed', 'Whole Grains', 'Fenugreek', 'Guava']"
      ]
     },
     "execution_count": 14,
     "metadata": {},
     "output_type": "execute_result"
    }
   ],
   "source": [
    "res_fr_final"
   ]
  },
  {
   "cell_type": "code",
   "execution_count": null,
   "metadata": {},
   "outputs": [],
   "source": []
  }
 ],
 "metadata": {
  "kernelspec": {
   "display_name": "Python 3",
   "language": "python",
   "name": "python3"
  },
  "language_info": {
   "codemirror_mode": {
    "name": "ipython",
    "version": 3
   },
   "file_extension": ".py",
   "mimetype": "text/x-python",
   "name": "python",
   "nbconvert_exporter": "python",
   "pygments_lexer": "ipython3",
   "version": "3.6.4"
  }
 },
 "nbformat": 4,
 "nbformat_minor": 2
}
