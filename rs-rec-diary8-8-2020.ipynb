{
 "cells": [
  {
   "cell_type": "code",
   "execution_count": 1,
   "metadata": {},
   "outputs": [],
   "source": [
    "import requests\n",
    "r_diet=requests.get(\"https://www.everydayhealth.com/type-2-diabetes/diet/guide-eating-dairy-with-diabetes/\")\n"
   ]
  },
  {
   "cell_type": "code",
   "execution_count": 3,
   "metadata": {},
   "outputs": [
    {
     "name": "stdout",
     "output_type": "stream",
     "text": [
      "﻿<!DOCTYPE html><html lang=\"en\"><head><meta charset=\"utf-8\" /><meta http-equiv=\"X-UA-Compatible\" content=\"IE=edge\" /><meta name=\"msapplication-config\" content=\"none\" /><meta name=\"viewport\" content=\"width=device-width, initial-scale=1.0, minimum-scale=1.0, maximum-scale=1.0\" /><meta property=\"og:title\" content=\"A Guide for Eating Dairy With Diabetes | Everyday Health\" /><meta property=\"og:url\" content=\"https://www.everydayhealth.com/type-2-diabetes/diet/guide-eating-dairy-with-diabetes/\" /><meta property=\"og:description\" content=\"Figuring out how much and what kinds of dairy to work into your \n"
     ]
    }
   ],
   "source": [
    "print(r_diet.text[0:600])\n",
    "#ignore"
   ]
  },
  {
   "cell_type": "code",
   "execution_count": 4,
   "metadata": {},
   "outputs": [],
   "source": [
    "from bs4 import BeautifulSoup\n",
    "soup=BeautifulSoup(r_diet.text,'html.parser')\n"
   ]
  },
  {
   "cell_type": "code",
   "execution_count": 5,
   "metadata": {},
   "outputs": [],
   "source": [
    "res_rd=soup.find_all('h3')\n"
   ]
  },
  {
   "cell_type": "code",
   "execution_count": 6,
   "metadata": {},
   "outputs": [
    {
     "data": {
      "text/plain": [
       "12"
      ]
     },
     "execution_count": 6,
     "metadata": {},
     "output_type": "execute_result"
    }
   ],
   "source": [
    "len(res_rd)"
   ]
  },
  {
   "cell_type": "code",
   "execution_count": 7,
   "metadata": {},
   "outputs": [
    {
     "data": {
      "text/plain": [
       "[<h3>Greek Yogurt</h3>,\n",
       " <h3>String Cheese</h3>,\n",
       " <h3>Grass-Fed Dairy</h3>,\n",
       " <h3>Fat-Free Milk</h3>,\n",
       " <h3>Sweetened Dairy Products</h3>,\n",
       " <h3 class=\"latest-feed-item__title\"><a class=\"cr-anchor\" href=\"https://www.everydayhealth.com/type-2-diabetes/increasing-in-children-and-teens-especially-in-youth-of-color/\" rel=\"noopener noreferrer\">Type 2 Diabetes Is Increasing in Children and Teens, Especially in BIPOC Youth</a></h3>,\n",
       " <h3 class=\"latest-feed-item__title\"><a class=\"cr-anchor\" href=\"https://www.everydayhealth.com/type-2-diabetes/stay-on-track-with-goals/\" rel=\"noopener noreferrer\">How to Stay on With Your Track Type 2 Diabetes Goals</a></h3>,\n",
       " <h3 class=\"latest-feed-item__title\"><a class=\"cr-anchor\" href=\"https://www.everydayhealth.com/type-2-diabetes/questions-to-ask-about-stepping-up-treatment/\" rel=\"noopener noreferrer\">9 Questions to Ask Your Doctor About Stepping Up Your Type 2 Diabetes Treatment Plan</a></h3>,\n",
       " <h3 class=\"latest-feed-item__title\"><a class=\"cr-anchor\" href=\"https://www.everydayhealth.com/type-2-diabetes/reasons-for-not-hitting-your-a1c-goal/\" rel=\"noopener noreferrer\">7 Reasons You’re Not Hitting Your A1C Goal</a></h3>,\n",
       " <h3 class=\"latest-feed-item__title\"><a class=\"cr-anchor\" href=\"https://www.everydayhealth.com/type-2-diabetes/too-little-too-much-sleep-linked-to-earlier-death-in-people-with-diabetes/\" rel=\"noopener noreferrer\">Too Little (or Too Much) Sleep Linked to Earlier Death in People With Diabetes</a></h3>,\n",
       " <h3 class=\"text-promo__title text-promo__multiple\"><a class=\"cr-anchor text-promo__text\" href=\"https://www.everydayhealth.com/type-2-diabetes/adding-dairy-to-your-diet-may-help-prevent-diabetes-and-high-blood-pressure/\" rel=\"noopener noreferrer\" title=\"\">Adding Dairy to Your Diet May Help Prevent Diabetes and High Blood Pressure</a></h3>,\n",
       " <h3 class=\"text-promo__title text-promo__multiple\"><a class=\"cr-anchor text-promo__text\" href=\"https://www.everydayhealth.com/type-2-diabetes/diet/superfoods-for-your-diabetes-diet/\" rel=\"noopener noreferrer\" title=\"\">11 Vitamin-Packed Superfoods for People With Type 2 Diabetes</a></h3>]"
      ]
     },
     "execution_count": 7,
     "metadata": {},
     "output_type": "execute_result"
    }
   ],
   "source": [
    "res_rd[0:1200]\n",
    "#ignore "
   ]
  },
  {
   "cell_type": "code",
   "execution_count": 9,
   "metadata": {},
   "outputs": [
    {
     "data": {
      "text/plain": [
       "[<h3>Greek Yogurt</h3>, <h3>String Cheese</h3>, <h3>Grass-Fed Dairy</h3>]"
      ]
     },
     "execution_count": 9,
     "metadata": {},
     "output_type": "execute_result"
    }
   ],
   "source": [
    "res_rd[0:3]"
   ]
  },
  {
   "cell_type": "code",
   "execution_count": 10,
   "metadata": {},
   "outputs": [],
   "source": [
    "first_rd = res_rd[0]"
   ]
  },
  {
   "cell_type": "code",
   "execution_count": 11,
   "metadata": {},
   "outputs": [],
   "source": [
    "first_rd.find('h3')\n",
    "#ignore"
   ]
  },
  {
   "cell_type": "code",
   "execution_count": 13,
   "metadata": {},
   "outputs": [
    {
     "data": {
      "text/plain": [
       "'Greek Yogurt'"
      ]
     },
     "execution_count": 13,
     "metadata": {},
     "output_type": "execute_result"
    }
   ],
   "source": [
    "first_rd.text\n"
   ]
  },
  {
   "cell_type": "code",
   "execution_count": 16,
   "metadata": {},
   "outputs": [],
   "source": [
    "record_rd = []\n",
    "cnt = 0\n",
    "for i in res_rd:\n",
    "    cnt = cnt + 1\n",
    "    data_rd = i.text\n",
    "    if cnt > 3:\n",
    "        break\n",
    "    record_rd.append((data_rd))    "
   ]
  },
  {
   "cell_type": "raw",
   "metadata": {},
   "source": [
    "len(record_rd)\n",
    "#ignore"
   ]
  },
  {
   "cell_type": "code",
   "execution_count": 17,
   "metadata": {},
   "outputs": [
    {
     "data": {
      "text/plain": [
       "3"
      ]
     },
     "execution_count": 17,
     "metadata": {},
     "output_type": "execute_result"
    }
   ],
   "source": [
    "len(record_rd)"
   ]
  },
  {
   "cell_type": "code",
   "execution_count": 18,
   "metadata": {},
   "outputs": [
    {
     "data": {
      "text/plain": [
       "['Greek Yogurt', 'String Cheese', 'Grass-Fed Dairy']"
      ]
     },
     "execution_count": 18,
     "metadata": {},
     "output_type": "execute_result"
    }
   ],
   "source": [
    "record_rd\n"
   ]
  },
  {
   "cell_type": "code",
   "execution_count": null,
   "metadata": {},
   "outputs": [],
   "source": []
  }
 ],
 "metadata": {
  "kernelspec": {
   "display_name": "Python 3",
   "language": "python",
   "name": "python3"
  },
  "language_info": {
   "codemirror_mode": {
    "name": "ipython",
    "version": 3
   },
   "file_extension": ".py",
   "mimetype": "text/x-python",
   "name": "python",
   "nbconvert_exporter": "python",
   "pygments_lexer": "ipython3",
   "version": "3.6.4"
  }
 },
 "nbformat": 4,
 "nbformat_minor": 2
}
