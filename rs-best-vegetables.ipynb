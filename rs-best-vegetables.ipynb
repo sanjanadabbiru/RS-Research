{
 "cells": [
  {
   "cell_type": "code",
   "execution_count": 2,
   "metadata": {},
   "outputs": [],
   "source": [
    "import requests\n",
    "r_vege= requests.get(\"https://www.medicalnewstoday.com/articles/317225#best-vegetables\")"
   ]
  },
  {
   "cell_type": "code",
   "execution_count": 3,
   "metadata": {},
   "outputs": [
    {
     "name": "stdout",
     "output_type": "stream",
     "text": [
      "<!DOCTYPE html><html lang=\"en\"><head>\n",
      "<link rel=preload href=\"https://assets.medicalnewstoday.com/_next/vendor-f5baf-legacy.js\" as=script crossorigin=anonymous><link rel=preload href=\"https://assets.medicalnewstoday.com/_next/lib-2dd72-legacy.js\" as=script crossorigin=anonymous><link rel=preload href=\"https://assets.medicalnewstoday.com/_next/b451dca2-41ac-499b-9453-ea5291eb7197/mnt/pages/tabbed.js-legacy.js\" as=script crossorigin=anonymous>\n",
      "<title>Best vegetables for type 2 diabetes: Choices, benefits, and meal tips</title><link rel=\"canonical\" href=\"https://www.medicalnewstoday.com/articles/\n"
     ]
    }
   ],
   "source": [
    "print(r_vege.text[0:600])"
   ]
  },
  {
   "cell_type": "code",
   "execution_count": 4,
   "metadata": {},
   "outputs": [],
   "source": [
    "from bs4 import BeautifulSoup\n",
    "soup_vege=BeautifulSoup(r_vege.text,'html.parser')"
   ]
  },
  {
   "cell_type": "code",
   "execution_count": 5,
   "metadata": {},
   "outputs": [],
   "source": [
    "res_vege = soup_vege.find_all('ul')"
   ]
  },
  {
   "cell_type": "code",
   "execution_count": 6,
   "metadata": {},
   "outputs": [
    {
     "data": {
      "text/plain": [
       "12"
      ]
     },
     "execution_count": 6,
     "metadata": {},
     "output_type": "execute_result"
    }
   ],
   "source": [
    "len(res_vege)"
   ]
  },
  {
   "cell_type": "code",
   "execution_count": 42,
   "metadata": {},
   "outputs": [
    {
     "data": {
      "text/plain": [
       "'Frozen green peas'"
      ]
     },
     "execution_count": 42,
     "metadata": {},
     "output_type": "execute_result"
    }
   ],
   "source": [
    "res_vege[1].contents[0].text[0:-26]\n",
    "#foods under this heading - The GI scores for some popular vegetables are:\n",
    "#contents[i] changes,i index value =[0,1,3] as at index 2 brocolli repeated in res_vege[2]'s data\n",
    "#brocolli ignored as it'll repeat next"
   ]
  },
  {
   "cell_type": "code",
   "execution_count": 52,
   "metadata": {},
   "outputs": [
    {
     "data": {
      "text/plain": [
       "'artichoke'"
      ]
     },
     "execution_count": 52,
     "metadata": {},
     "output_type": "execute_result"
    }
   ],
   "source": [
    "res_vege[2].contents[0].text\n",
    "#foods under this heading - Low-GI vegetables are also safe for people with diabetes, such as:\n",
    "#loop through changing through contents[i], 0 <= i <= 10"
   ]
  },
  {
   "cell_type": "code",
   "execution_count": 41,
   "metadata": {},
   "outputs": [
    {
     "data": {
      "text/plain": [
       "'Carrots'"
      ]
     },
     "execution_count": 41,
     "metadata": {},
     "output_type": "execute_result"
    }
   ],
   "source": [
    "res_vege[1].contents[1].text[0:-38]\n",
    "#foods under this heading - The GI scores for some popular vegetables are:"
   ]
  },
  {
   "cell_type": "code",
   "execution_count": 47,
   "metadata": {},
   "outputs": [
    {
     "data": {
      "text/plain": [
       "'Tomatoes'"
      ]
     },
     "execution_count": 47,
     "metadata": {},
     "output_type": "execute_result"
    }
   ],
   "source": [
    "res_vege[1].contents[3].text[0:-10]\n",
    "#foods under this heading - The GI scores for some popular vegetables are:"
   ]
  },
  {
   "cell_type": "code",
   "execution_count": 63,
   "metadata": {},
   "outputs": [
    {
     "data": {
      "text/plain": [
       "'rhubarb'"
      ]
     },
     "execution_count": 63,
     "metadata": {},
     "output_type": "execute_result"
    }
   ],
   "source": [
    "res_vege[3].contents[4].text\n",
    "#foods under this heading - High-nitrate content\n",
    "#loop through changing through contents[i], i index value =[0,1,4] as at index 2,3 lettuce,celery repeated"
   ]
  },
  {
   "cell_type": "code",
   "execution_count": 64,
   "metadata": {},
   "outputs": [
    {
     "data": {
      "text/plain": [
       "'spinach'"
      ]
     },
     "execution_count": 64,
     "metadata": {},
     "output_type": "execute_result"
    }
   ],
   "source": [
    "res_vege[4].contents[0].text\n",
    "#foods under this heading - Protein\n",
    "#loop through changing through contents[i]\n",
    "#i index value =[0,1,3,5] as at index 2,4,6 asparagus,brocolli,cauliflower repeated"
   ]
  },
  {
   "cell_type": "code",
   "execution_count": 66,
   "metadata": {},
   "outputs": [
    {
     "data": {
      "text/plain": [
       "'avocados'"
      ]
     },
     "execution_count": 66,
     "metadata": {},
     "output_type": "execute_result"
    }
   ],
   "source": [
    "res_vege[5].contents[6].text\n",
    "#foods under this heading - Fiber\n",
    "#dont know if needed or not as there is already fibre rich scraped data \n",
    "#loop through changing through contents[i], only index [5,6],i.e, split peas & avocados needed\n",
    "#rest repeated"
   ]
  },
  {
   "cell_type": "code",
   "execution_count": null,
   "metadata": {},
   "outputs": [],
   "source": []
  },
  {
   "cell_type": "code",
   "execution_count": 71,
   "metadata": {},
   "outputs": [
    {
     "data": {
      "text/plain": [
       "'tofu and tempeh'"
      ]
     },
     "execution_count": 71,
     "metadata": {},
     "output_type": "execute_result"
    }
   ],
   "source": [
    "res_vege[6].contents[8].text\n",
    "#foods under this heading - Eating vegan or vegetarian with diabetes \n",
    "# sub heading - Some of the most protein-rich vegan options include:\n",
    "#loop through changing through contents[i], 0 <= i <= 8"
   ]
  },
  {
   "cell_type": "code",
   "execution_count": 74,
   "metadata": {},
   "outputs": [
    {
     "data": {
      "text/plain": [
       "'almond butter on sprouted-grain bread with a topping of avocado and crushed red pepper flakes'"
      ]
     },
     "execution_count": 74,
     "metadata": {},
     "output_type": "execute_result"
    }
   ],
   "source": [
    "res_vege[7].contents[7].text\n",
    "#foods under this heading - Healthful diabetes meals\n",
    "# sub heading - Some simple meal options include:\n",
    "#loop through changing through contents[i], 0 <= i <= 7"
   ]
  },
  {
   "cell_type": "code",
   "execution_count": null,
   "metadata": {},
   "outputs": [],
   "source": [
    "#we can arrange above data in one or more columns as per our choice of the same\n",
    "#for example - we can have 1 column just for Meals, one for Protein, one for High-nitrate content,\n",
    "#one for low gi vegetables etc\n",
    "\n",
    "#note - the columns examples are only wrt to this scraped link's data\n",
    "\n",
    "#other notebooks have individual columns of high rich fibre diet data,nuts,fruits data\n",
    "\n",
    "#we can combine them later "
   ]
  }
 ],
 "metadata": {
  "kernelspec": {
   "display_name": "Python 3",
   "language": "python",
   "name": "python3"
  },
  "language_info": {
   "codemirror_mode": {
    "name": "ipython",
    "version": 3
   },
   "file_extension": ".py",
   "mimetype": "text/x-python",
   "name": "python",
   "nbconvert_exporter": "python",
   "pygments_lexer": "ipython3",
   "version": "3.6.4"
  }
 },
 "nbformat": 4,
 "nbformat_minor": 2
}
