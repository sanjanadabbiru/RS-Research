{
 "cells": [
  {
   "cell_type": "code",
   "execution_count": 4,
   "metadata": {},
   "outputs": [],
   "source": [
    "import requests\n",
    "r_vege= requests.get(\"https://www.medicalnewstoday.com/articles/317225#best-vegetables\")"
   ]
  },
  {
   "cell_type": "code",
   "execution_count": 5,
   "metadata": {},
   "outputs": [
    {
     "name": "stdout",
     "output_type": "stream",
     "text": [
      "<!DOCTYPE html><html lang=\"en\"><head>\n",
      "<link rel=preload href=\"https://assets.medicalnewstoday.com/_next/vendor-f5baf-legacy.js\" as=script crossorigin=anonymous><link rel=preload href=\"https://assets.medicalnewstoday.com/_next/lib-036f7-legacy.js\" as=script crossorigin=anonymous><link rel=preload href=\"https://assets.medicalnewstoday.com/_next/0fe12977-d9a3-4200-bb1a-667bc25ae63c/mnt/pages/tabbed.js-legacy.js\" as=script crossorigin=anonymous>\n",
      "<title>Best vegetables for type 2 diabetes: Choices, benefits, and meal tips</title><link rel=\"canonical\" href=\"https://www.medicalnewstoday.com/articles/\n"
     ]
    }
   ],
   "source": [
    "print(r_vege.text[0:600])"
   ]
  },
  {
   "cell_type": "code",
   "execution_count": 6,
   "metadata": {},
   "outputs": [],
   "source": [
    "from bs4 import BeautifulSoup\n",
    "soup_vege=BeautifulSoup(r_vege.text,'html.parser')"
   ]
  },
  {
   "cell_type": "code",
   "execution_count": 7,
   "metadata": {},
   "outputs": [],
   "source": [
    "res_vege = soup_vege.find_all('ul')"
   ]
  },
  {
   "cell_type": "code",
   "execution_count": 8,
   "metadata": {},
   "outputs": [
    {
     "data": {
      "text/plain": [
       "12"
      ]
     },
     "execution_count": 8,
     "metadata": {},
     "output_type": "execute_result"
    }
   ],
   "source": [
    "len(res_vege)"
   ]
  },
  {
   "cell_type": "code",
   "execution_count": 9,
   "metadata": {},
   "outputs": [
    {
     "data": {
      "text/plain": [
       "'Frozen green peas'"
      ]
     },
     "execution_count": 9,
     "metadata": {},
     "output_type": "execute_result"
    }
   ],
   "source": [
    "res_vege[1].contents[0].text[0:-26]\n",
    "#foods under this heading - The GI scores for some popular vegetables are:\n",
    "#contents[i] changes,i index value =[0,1,3] as at index 2 brocolli repeated in res_vege[2]'s data\n",
    "#brocolli ignored as it'll repeat next"
   ]
  },
  {
   "cell_type": "code",
   "execution_count": 10,
   "metadata": {},
   "outputs": [
    {
     "data": {
      "text/plain": [
       "'artichoke'"
      ]
     },
     "execution_count": 10,
     "metadata": {},
     "output_type": "execute_result"
    }
   ],
   "source": [
    "res_vege[2].contents[0].text\n",
    "#foods under this heading - Low-GI vegetables are also safe for people with diabetes, such as:\n",
    "#loop through changing through contents[i], 0 <= i <= 10"
   ]
  },
  {
   "cell_type": "code",
   "execution_count": 11,
   "metadata": {},
   "outputs": [
    {
     "data": {
      "text/plain": [
       "'Carrots'"
      ]
     },
     "execution_count": 11,
     "metadata": {},
     "output_type": "execute_result"
    }
   ],
   "source": [
    "res_vege[1].contents[1].text[0:-38]\n",
    "#foods under this heading - The GI scores for some popular vegetables are:"
   ]
  },
  {
   "cell_type": "code",
   "execution_count": 12,
   "metadata": {},
   "outputs": [
    {
     "data": {
      "text/plain": [
       "'Tomatoes'"
      ]
     },
     "execution_count": 12,
     "metadata": {},
     "output_type": "execute_result"
    }
   ],
   "source": [
    "res_vege[1].contents[3].text[0:-10]\n",
    "#foods under this heading - The GI scores for some popular vegetables are:"
   ]
  },
  {
   "cell_type": "code",
   "execution_count": 13,
   "metadata": {},
   "outputs": [
    {
     "data": {
      "text/plain": [
       "'rhubarb'"
      ]
     },
     "execution_count": 13,
     "metadata": {},
     "output_type": "execute_result"
    }
   ],
   "source": [
    "res_vege[3].contents[4].text\n",
    "#foods under this heading - High-nitrate content\n",
    "#loop through changing through contents[i], i index value =[0,1,4] as at index 2,3 lettuce,celery repeated"
   ]
  },
  {
   "cell_type": "code",
   "execution_count": 14,
   "metadata": {},
   "outputs": [
    {
     "data": {
      "text/plain": [
       "'spinach'"
      ]
     },
     "execution_count": 14,
     "metadata": {},
     "output_type": "execute_result"
    }
   ],
   "source": [
    "res_vege[4].contents[0].text\n",
    "#foods under this heading - Protein\n",
    "#loop through changing through contents[i]\n",
    "#i index value =[0,1,3,5] as at index 2,4,6 asparagus,brocolli,cauliflower repeated"
   ]
  },
  {
   "cell_type": "code",
   "execution_count": 15,
   "metadata": {},
   "outputs": [
    {
     "data": {
      "text/plain": [
       "'avocados'"
      ]
     },
     "execution_count": 15,
     "metadata": {},
     "output_type": "execute_result"
    }
   ],
   "source": [
    "res_vege[5].contents[6].text\n",
    "#foods under this heading - Fiber\n",
    "#dont know if needed or not as there is already fibre rich scraped data \n",
    "#loop through changing through contents[i], only index [5,6],i.e, split peas & avocados needed\n",
    "#rest repeated"
   ]
  },
  {
   "cell_type": "code",
   "execution_count": null,
   "metadata": {},
   "outputs": [],
   "source": []
  },
  {
   "cell_type": "code",
   "execution_count": 16,
   "metadata": {},
   "outputs": [
    {
     "data": {
      "text/plain": [
       "'tofu and tempeh'"
      ]
     },
     "execution_count": 16,
     "metadata": {},
     "output_type": "execute_result"
    }
   ],
   "source": [
    "res_vege[6].contents[8].text\n",
    "#foods under this heading - Eating vegan or vegetarian with diabetes \n",
    "# sub heading - Some of the most protein-rich vegan options include:\n",
    "#loop through changing through contents[i], 0 <= i <= 8"
   ]
  },
  {
   "cell_type": "code",
   "execution_count": 17,
   "metadata": {},
   "outputs": [
    {
     "data": {
      "text/plain": [
       "'almond butter on sprouted-grain bread with a topping of avocado and crushed red pepper flakes'"
      ]
     },
     "execution_count": 17,
     "metadata": {},
     "output_type": "execute_result"
    }
   ],
   "source": [
    "res_vege[7].contents[7].text\n",
    "#foods under this heading - Healthful diabetes meals\n",
    "# sub heading - Some simple meal options include:\n",
    "#loop through changing through contents[i], 0 <= i <= 7"
   ]
  },
  {
   "cell_type": "code",
   "execution_count": 18,
   "metadata": {},
   "outputs": [],
   "source": [
    "#we can arrange above data in one or more columns as per our choice of the same\n",
    "#for example - we can have 1 column just for Meals, one for Protein, one for High-nitrate content,\n",
    "#one for low gi vegetables etc\n",
    "\n",
    "#note - the columns examples are only wrt to this scraped link's data\n",
    "\n",
    "#other notebooks have individual columns of high rich fibre diet data,nuts,fruits data\n",
    "\n",
    "#we can combine them later \n"
   ]
  },
  {
   "cell_type": "code",
   "execution_count": 26,
   "metadata": {},
   "outputs": [],
   "source": [
    "res_vege_final =[]\n",
    "\n",
    "index_popveg=[0,1,3]\n",
    "#foods under this heading - The GI scores for some popular vegetables are:\n",
    "#contents[i] changes,i index value =[0,1,3] as at index 2 brocolli repeated in res_vege[2]'s data\n",
    "#brocolli ignored as it'll repeat next\n",
    "for i in index_popveg:\n",
    "    if i==0:\n",
    "        res_vege_final.append(res_vege[1].contents[i].text[0:-26])\n",
    "    if i==1:\n",
    "        res_vege_final.append(res_vege[1].contents[i].text[0:-38])\n",
    "    if i==3:\n",
    "        res_vege_final.append(res_vege[1].contents[i].text[0:-10])\n",
    "    "
   ]
  },
  {
   "cell_type": "code",
   "execution_count": 27,
   "metadata": {},
   "outputs": [
    {
     "data": {
      "text/plain": [
       "['Frozen green peas', 'Carrots', 'Tomatoes']"
      ]
     },
     "execution_count": 27,
     "metadata": {},
     "output_type": "execute_result"
    }
   ],
   "source": [
    "res_vege_final"
   ]
  },
  {
   "cell_type": "code",
   "execution_count": 29,
   "metadata": {},
   "outputs": [],
   "source": [
    "#res_vege[2].contents[0].text\n",
    "#foods under this heading - Low-GI vegetables are also safe for people with diabetes, such as:\n",
    "#loop through changing through contents[i], 0 <= i <= 10\n",
    "index_lowveg=[0,1,2,3,4,5,6,7,8,9,10]\n",
    "for i in index_lowveg:\n",
    "    res_vege_final.append(res_vege[2].contents[i].text)"
   ]
  },
  {
   "cell_type": "code",
   "execution_count": 30,
   "metadata": {},
   "outputs": [
    {
     "data": {
      "text/plain": [
       "['Frozen green peas',\n",
       " 'Carrots',\n",
       " 'Tomatoes',\n",
       " 'artichoke',\n",
       " 'asparagus',\n",
       " 'broccoli',\n",
       " 'cauliflower',\n",
       " 'green beans',\n",
       " 'lettuce',\n",
       " 'eggplant',\n",
       " 'peppers',\n",
       " 'snow peas',\n",
       " 'spinach',\n",
       " 'celery']"
      ]
     },
     "execution_count": 30,
     "metadata": {},
     "output_type": "execute_result"
    }
   ],
   "source": [
    "res_vege_final"
   ]
  },
  {
   "cell_type": "code",
   "execution_count": 31,
   "metadata": {},
   "outputs": [],
   "source": [
    "#res_vege[3].contents[4].text\n",
    "#foods under this heading - High-nitrate content\n",
    "#loop through changing through contents[i], i index value =[0,1,4] as at index 2,3 lettuce,celery repeated\n",
    "index_highnit=[0,1,4]\n",
    "for i in index_highnit:\n",
    "    res_vege_final.append(res_vege[3].contents[i].text)"
   ]
  },
  {
   "cell_type": "code",
   "execution_count": 32,
   "metadata": {},
   "outputs": [
    {
     "data": {
      "text/plain": [
       "['Frozen green peas',\n",
       " 'Carrots',\n",
       " 'Tomatoes',\n",
       " 'artichoke',\n",
       " 'asparagus',\n",
       " 'broccoli',\n",
       " 'cauliflower',\n",
       " 'green beans',\n",
       " 'lettuce',\n",
       " 'eggplant',\n",
       " 'peppers',\n",
       " 'snow peas',\n",
       " 'spinach',\n",
       " 'celery',\n",
       " 'arugula',\n",
       " 'beets and beet juice',\n",
       " 'rhubarb']"
      ]
     },
     "execution_count": 32,
     "metadata": {},
     "output_type": "execute_result"
    }
   ],
   "source": [
    "res_vege_final"
   ]
  },
  {
   "cell_type": "code",
   "execution_count": 33,
   "metadata": {},
   "outputs": [],
   "source": [
    "#res_vege[4].contents[0].text\n",
    "#foods under this heading - Protein\n",
    "#loop through changing through contents[i]\n",
    "#i index value =[0,1,3,5] as at index 2,4,6 asparagus,brocolli,cauliflower repeated\n",
    "index_prot=[0,1,3,5]\n",
    "for i in index_prot:\n",
    "    res_vege_final.append(res_vege[4].contents[i].text)"
   ]
  },
  {
   "cell_type": "code",
   "execution_count": 35,
   "metadata": {},
   "outputs": [],
   "source": [
    "res_vege_final.remove('spinach')\n",
    "#removing duplicate occurence of spinach"
   ]
  },
  {
   "cell_type": "code",
   "execution_count": 36,
   "metadata": {},
   "outputs": [
    {
     "data": {
      "text/plain": [
       "['Frozen green peas',\n",
       " 'Carrots',\n",
       " 'Tomatoes',\n",
       " 'artichoke',\n",
       " 'asparagus',\n",
       " 'broccoli',\n",
       " 'cauliflower',\n",
       " 'green beans',\n",
       " 'lettuce',\n",
       " 'eggplant',\n",
       " 'peppers',\n",
       " 'snow peas',\n",
       " 'celery',\n",
       " 'arugula',\n",
       " 'beets and beet juice',\n",
       " 'rhubarb',\n",
       " 'spinach',\n",
       " 'bok choy',\n",
       " 'mustard greens',\n",
       " 'Brussels sprouts']"
      ]
     },
     "execution_count": 36,
     "metadata": {},
     "output_type": "execute_result"
    }
   ],
   "source": [
    "res_vege_final"
   ]
  },
  {
   "cell_type": "code",
   "execution_count": 37,
   "metadata": {},
   "outputs": [],
   "source": [
    "#res_vege[5].contents[6].text\n",
    "#foods under this heading - Fiber\n",
    "#dont know if needed or not as there is already fibre rich scraped data \n",
    "#loop through changing through contents[i], only index [5,6],i.e, split peas & avocados needed\n",
    "#rest repeated\n",
    "index_fib=[5,6]\n",
    "for i in index_fib:\n",
    "    res_vege_final.append(res_vege[5].contents[i].text)"
   ]
  },
  {
   "cell_type": "code",
   "execution_count": 38,
   "metadata": {},
   "outputs": [
    {
     "data": {
      "text/plain": [
       "['Frozen green peas',\n",
       " 'Carrots',\n",
       " 'Tomatoes',\n",
       " 'artichoke',\n",
       " 'asparagus',\n",
       " 'broccoli',\n",
       " 'cauliflower',\n",
       " 'green beans',\n",
       " 'lettuce',\n",
       " 'eggplant',\n",
       " 'peppers',\n",
       " 'snow peas',\n",
       " 'celery',\n",
       " 'arugula',\n",
       " 'beets and beet juice',\n",
       " 'rhubarb',\n",
       " 'spinach',\n",
       " 'bok choy',\n",
       " 'mustard greens',\n",
       " 'Brussels sprouts',\n",
       " 'split peas',\n",
       " 'avocados']"
      ]
     },
     "execution_count": 38,
     "metadata": {},
     "output_type": "execute_result"
    }
   ],
   "source": [
    "res_vege_final"
   ]
  },
  {
   "cell_type": "code",
   "execution_count": 39,
   "metadata": {},
   "outputs": [],
   "source": [
    "#res_vege[6].contents[8].text\n",
    "#foods under this heading - Eating vegan or vegetarian with diabetes \n",
    "# sub heading - Some of the most protein-rich vegan options include:\n",
    "#loop through changing through contents[i], 0 <= i <= 8\n",
    "index_prov=[0,1,2,3,4,5,6,7,8]\n",
    "for i in index_prov:\n",
    "    res_vege_final.append(res_vege[6].contents[i].text)"
   ]
  },
  {
   "cell_type": "code",
   "execution_count": 40,
   "metadata": {},
   "outputs": [
    {
     "data": {
      "text/plain": [
       "['Frozen green peas',\n",
       " 'Carrots',\n",
       " 'Tomatoes',\n",
       " 'artichoke',\n",
       " 'asparagus',\n",
       " 'broccoli',\n",
       " 'cauliflower',\n",
       " 'green beans',\n",
       " 'lettuce',\n",
       " 'eggplant',\n",
       " 'peppers',\n",
       " 'snow peas',\n",
       " 'celery',\n",
       " 'arugula',\n",
       " 'beets and beet juice',\n",
       " 'rhubarb',\n",
       " 'spinach',\n",
       " 'bok choy',\n",
       " 'mustard greens',\n",
       " 'Brussels sprouts',\n",
       " 'split peas',\n",
       " 'avocados',\n",
       " 'lentils',\n",
       " 'beans and chickpeas',\n",
       " 'peas',\n",
       " 'almonds',\n",
       " 'pumpkin seeds',\n",
       " 'amaranth and quinoa',\n",
       " 'sprouted-grain bread',\n",
       " 'soy milk',\n",
       " 'tofu and tempeh']"
      ]
     },
     "execution_count": 40,
     "metadata": {},
     "output_type": "execute_result"
    }
   ],
   "source": [
    "res_vege_final"
   ]
  },
  {
   "cell_type": "code",
   "execution_count": 48,
   "metadata": {},
   "outputs": [],
   "source": [
    "res_meals_final = []\n",
    "#can be used or made as a separate column\n",
    "#res_vege[7].contents[7].text\n",
    "#foods under this heading - Healthful diabetes meals\n",
    "# sub heading - Some simple meal options include:\n",
    "#loop through changing through contents[i], 0 <= i <= 7\n",
    "index_meals=[0,1,2,3,4,5,6,7]\n",
    "for i in index_meals:\n",
    "    res_meals_final.append(res_vege[7].contents[i].text)"
   ]
  },
  {
   "cell_type": "code",
   "execution_count": 55,
   "metadata": {},
   "outputs": [
    {
     "data": {
      "text/plain": [
       "['avocado, cherry tomato, and chickpea salad',\n",
       " 'hard-boiled eggs and roasted beets with black pepper and turmeric',\n",
       " 'low-sodium cottage cheese spread on toasted sweet potato slices. Add black or cayenne pepper to boost the flavor',\n",
       " 'tofu burger patty with spinach and avocado',\n",
       " 'spinach salad with chia seeds, tomatoes, bell peppers, and a light sprinkling of goat’s cheese',\n",
       " 'quinoa and fruit added to unsweetened Greek yogurt with cinnamon',\n",
       " 'quinoa with pepper or vinaigrette season, or on its own',\n",
       " 'almond butter on sprouted-grain bread with a topping of avocado and crushed red pepper flakes']"
      ]
     },
     "execution_count": 55,
     "metadata": {},
     "output_type": "execute_result"
    }
   ],
   "source": [
    "res_meals_final\n",
    "#final meals"
   ]
  },
  {
   "cell_type": "code",
   "execution_count": 50,
   "metadata": {},
   "outputs": [
    {
     "data": {
      "text/plain": [
       "['Frozen green peas',\n",
       " 'Carrots',\n",
       " 'Tomatoes',\n",
       " 'artichoke',\n",
       " 'asparagus',\n",
       " 'broccoli',\n",
       " 'cauliflower',\n",
       " 'green beans',\n",
       " 'lettuce',\n",
       " 'eggplant',\n",
       " 'peppers',\n",
       " 'snow peas',\n",
       " 'celery',\n",
       " 'arugula',\n",
       " 'beets and beet juice',\n",
       " 'rhubarb',\n",
       " 'spinach',\n",
       " 'bok choy',\n",
       " 'mustard greens',\n",
       " 'Brussels sprouts',\n",
       " 'split peas',\n",
       " 'avocados',\n",
       " 'lentils',\n",
       " 'beans and chickpeas',\n",
       " 'peas',\n",
       " 'almonds',\n",
       " 'pumpkin seeds',\n",
       " 'amaranth and quinoa',\n",
       " 'sprouted-grain bread',\n",
       " 'soy milk',\n",
       " 'tofu and tempeh',\n",
       " 'avocado, cherry tomato, and chickpea salad',\n",
       " 'hard-boiled eggs and roasted beets with black pepper and turmeric',\n",
       " 'low-sodium cottage cheese spread on toasted sweet potato slices. Add black or cayenne pepper to boost the flavor',\n",
       " 'tofu burger patty with spinach and avocado',\n",
       " 'spinach salad with chia seeds, tomatoes, bell peppers, and a light sprinkling of goat’s cheese',\n",
       " 'quinoa and fruit added to unsweetened Greek yogurt with cinnamon',\n",
       " 'quinoa with pepper or vinaigrette season, or on its own',\n",
       " 'almond butter on sprouted-grain bread with a topping of avocado and crushed red pepper flakes',\n",
       " 'avocado, cherry tomato, and chickpea salad',\n",
       " 'hard-boiled eggs and roasted beets with black pepper and turmeric',\n",
       " 'low-sodium cottage cheese spread on toasted sweet potato slices. Add black or cayenne pepper to boost the flavor',\n",
       " 'tofu burger patty with spinach and avocado',\n",
       " 'spinach salad with chia seeds, tomatoes, bell peppers, and a light sprinkling of goat’s cheese',\n",
       " 'quinoa and fruit added to unsweetened Greek yogurt with cinnamon',\n",
       " 'quinoa with pepper or vinaigrette season, or on its own',\n",
       " 'almond butter on sprouted-grain bread with a topping of avocado and crushed red pepper flakes']"
      ]
     },
     "execution_count": 50,
     "metadata": {},
     "output_type": "execute_result"
    }
   ],
   "source": [
    "res_vege_final"
   ]
  },
  {
   "cell_type": "code",
   "execution_count": 51,
   "metadata": {},
   "outputs": [
    {
     "data": {
      "text/plain": [
       "47"
      ]
     },
     "execution_count": 51,
     "metadata": {},
     "output_type": "execute_result"
    }
   ],
   "source": [
    "len(res_vege_final)"
   ]
  },
  {
   "cell_type": "code",
   "execution_count": 52,
   "metadata": {},
   "outputs": [],
   "source": [
    "#removing meals from res_vege_final\n",
    "res_vege_backup = res_vege_final\n",
    "index_meals=[46,45,44,43,42,41,40,39,38,37,36,35,34,33,32,31]\n",
    "for i in index_meals:\n",
    "    res_vege_final.pop(i)\n"
   ]
  },
  {
   "cell_type": "code",
   "execution_count": 53,
   "metadata": {},
   "outputs": [
    {
     "data": {
      "text/plain": [
       "31"
      ]
     },
     "execution_count": 53,
     "metadata": {},
     "output_type": "execute_result"
    }
   ],
   "source": [
    "len(res_vege_final)"
   ]
  },
  {
   "cell_type": "code",
   "execution_count": 54,
   "metadata": {},
   "outputs": [
    {
     "data": {
      "text/plain": [
       "['Frozen green peas',\n",
       " 'Carrots',\n",
       " 'Tomatoes',\n",
       " 'artichoke',\n",
       " 'asparagus',\n",
       " 'broccoli',\n",
       " 'cauliflower',\n",
       " 'green beans',\n",
       " 'lettuce',\n",
       " 'eggplant',\n",
       " 'peppers',\n",
       " 'snow peas',\n",
       " 'celery',\n",
       " 'arugula',\n",
       " 'beets and beet juice',\n",
       " 'rhubarb',\n",
       " 'spinach',\n",
       " 'bok choy',\n",
       " 'mustard greens',\n",
       " 'Brussels sprouts',\n",
       " 'split peas',\n",
       " 'avocados',\n",
       " 'lentils',\n",
       " 'beans and chickpeas',\n",
       " 'peas',\n",
       " 'almonds',\n",
       " 'pumpkin seeds',\n",
       " 'amaranth and quinoa',\n",
       " 'sprouted-grain bread',\n",
       " 'soy milk',\n",
       " 'tofu and tempeh']"
      ]
     },
     "execution_count": 54,
     "metadata": {},
     "output_type": "execute_result"
    }
   ],
   "source": [
    "res_vege_final\n",
    "#final vegetables"
   ]
  },
  {
   "cell_type": "code",
   "execution_count": null,
   "metadata": {},
   "outputs": [],
   "source": []
  }
 ],
 "metadata": {
  "kernelspec": {
   "display_name": "Python 3",
   "language": "python",
   "name": "python3"
  },
  "language_info": {
   "codemirror_mode": {
    "name": "ipython",
    "version": 3
   },
   "file_extension": ".py",
   "mimetype": "text/x-python",
   "name": "python",
   "nbconvert_exporter": "python",
   "pygments_lexer": "ipython3",
   "version": "3.6.4"
  }
 },
 "nbformat": 4,
 "nbformat_minor": 2
}
