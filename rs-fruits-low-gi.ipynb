{
 "cells": [
  {
   "cell_type": "code",
   "execution_count": 19,
   "metadata": {},
   "outputs": [],
   "source": [
    "import requests\n",
    "r_fru= requests.get(\"https://www.healthline.com/health/diabetes/low-glycemic-fruits-for-diabetes\")"
   ]
  },
  {
   "cell_type": "code",
   "execution_count": 21,
   "metadata": {},
   "outputs": [
    {
     "name": "stdout",
     "output_type": "stream",
     "text": [
      "<!DOCTYPE html><html lang=\"en\"><head>\n",
      "<link rel=preload href=\"https://assets.medicalnewstoday.com/_next/vendor-02c5d-legacy.js\" as=script crossorigin=anonymous><link rel=preload href=\"https://assets.medicalnewstoday.com/_next/lib-44554-legacy.js\" as=script crossorigin=anonymous><link rel=preload href=\"https://assets.medicalnewstoday.com/_next/b451dca2-41ac-499b-9453-ea5291eb7197/hl/pages/tabbed.js-legacy.js\" as=script crossorigin=anonymous>\n",
      "<title>10 Low-Glycemic Fruits for Diabetes</title><link rel=\"canonical\" href=\"https://www.healthline.com/health/diabetes/low-glycemic-fruits-for-diabetes\"/\n"
     ]
    }
   ],
   "source": [
    "print(r_fru.text[0:600])"
   ]
  },
  {
   "cell_type": "code",
   "execution_count": 22,
   "metadata": {},
   "outputs": [],
   "source": [
    "from bs4 import BeautifulSoup\n",
    "soup_fru=BeautifulSoup(r_fru.text,'html.parser')"
   ]
  },
  {
   "cell_type": "code",
   "execution_count": 23,
   "metadata": {},
   "outputs": [],
   "source": [
    "res_fru = soup_fru.find_all('h2')"
   ]
  },
  {
   "cell_type": "code",
   "execution_count": 24,
   "metadata": {},
   "outputs": [
    {
     "data": {
      "text/plain": [
       "13"
      ]
     },
     "execution_count": 24,
     "metadata": {},
     "output_type": "execute_result"
    }
   ],
   "source": [
    "len(res_fru)"
   ]
  },
  {
   "cell_type": "code",
   "execution_count": 25,
   "metadata": {},
   "outputs": [
    {
     "data": {
      "text/plain": [
       "[<h2 class=\"css-13i30ag\"><div><a name=\"overview\"> Safer fruits for diabetes</a></div></h2>,\n",
       " <h2><div><a name=\"glycemic-index\"> What is the glycemic\n",
       " index?</a></div></h2>,\n",
       " <h2><div><a name=\"cherries\"> 1. Cherries</a></div></h2>,\n",
       " <h2><div><a name=\"grapefruit\"> 2. Grapefruit</a></div></h2>,\n",
       " <h2><div><a name=\"dried-apricots\"> 3. Dried apricots</a></div></h2>,\n",
       " <h2><div><a name=\"pears\"> 4. Pears</a></div></h2>,\n",
       " <h2><div><a name=\"apples\"> 5. Apples</a></div></h2>,\n",
       " <h2><div><a name=\"oranges\"> 6. Oranges</a></div></h2>,\n",
       " <h2><div><a name=\"plums\"> 7. Plums</a></div></h2>,\n",
       " <h2><div><a name=\"strawberries\"> 8. Strawberries</a></div></h2>,\n",
       " <h2><div><a name=\"peaches\"> 9. Peaches</a></div></h2>,\n",
       " <h2><div><a name=\"grapes\"> 10. Grapes</a></div></h2>,\n",
       " <h2 class=\"css-11kr1sc\">related stories</h2>]"
      ]
     },
     "execution_count": 25,
     "metadata": {},
     "output_type": "execute_result"
    }
   ],
   "source": [
    "res_fru"
   ]
  },
  {
   "cell_type": "code",
   "execution_count": 44,
   "metadata": {},
   "outputs": [
    {
     "data": {
      "text/plain": [
       "'Grapefruit'"
      ]
     },
     "execution_count": 44,
     "metadata": {},
     "output_type": "execute_result"
    }
   ],
   "source": [
    "res_fru[3].find('a').text[4:]"
   ]
  },
  {
   "cell_type": "code",
   "execution_count": 46,
   "metadata": {},
   "outputs": [],
   "source": [
    "res_fru_final = []\n",
    "indices = [2,3,4,5,6,7,8,9,10,11]\n",
    "\n",
    "for index in indices:\n",
    "    res_fru_final.append(res_fru[index].find('a').text[4:])"
   ]
  },
  {
   "cell_type": "code",
   "execution_count": 47,
   "metadata": {},
   "outputs": [
    {
     "data": {
      "text/plain": [
       "['Cherries',\n",
       " 'Grapefruit',\n",
       " 'Dried apricots',\n",
       " 'Pears',\n",
       " 'Apples',\n",
       " 'Oranges',\n",
       " 'Plums',\n",
       " 'Strawberries',\n",
       " 'Peaches',\n",
       " ' Grapes']"
      ]
     },
     "execution_count": 47,
     "metadata": {},
     "output_type": "execute_result"
    }
   ],
   "source": [
    "res_fru_final"
   ]
  },
  {
   "cell_type": "code",
   "execution_count": null,
   "metadata": {},
   "outputs": [],
   "source": []
  }
 ],
 "metadata": {
  "kernelspec": {
   "display_name": "Python 3",
   "language": "python",
   "name": "python3"
  },
  "language_info": {
   "codemirror_mode": {
    "name": "ipython",
    "version": 3
   },
   "file_extension": ".py",
   "mimetype": "text/x-python",
   "name": "python",
   "nbconvert_exporter": "python",
   "pygments_lexer": "ipython3",
   "version": "3.6.4"
  }
 },
 "nbformat": 4,
 "nbformat_minor": 2
}
