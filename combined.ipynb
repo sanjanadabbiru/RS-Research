{
 "cells": [
  {
   "cell_type": "code",
   "execution_count": 2,
   "metadata": {},
   "outputs": [],
   "source": [
    "import requests\n",
    "r_vege= requests.get(\"https://www.medicalnewstoday.com/articles/317225#best-vegetables\")"
   ]
  },
  {
   "cell_type": "code",
   "execution_count": 3,
   "metadata": {},
   "outputs": [
    {
     "name": "stdout",
     "output_type": "stream",
     "text": [
      "<!DOCTYPE html><html lang=\"en\"><head>\n",
      "<link rel=preload href=\"https://assets.medicalnewstoday.com/_next/vendor-f5baf-legacy.js\" as=script crossorigin=anonymous><link rel=preload href=\"https://assets.medicalnewstoday.com/_next/lib-2dd72-legacy.js\" as=script crossorigin=anonymous><link rel=preload href=\"https://assets.medicalnewstoday.com/_next/b451dca2-41ac-499b-9453-ea5291eb7197/mnt/pages/tabbed.js-legacy.js\" as=script crossorigin=anonymous>\n",
      "<title>Best vegetables for type 2 diabetes: Choices, benefits, and meal tips</title><link rel=\"canonical\" href=\"https://www.medicalnewstoday.com/articles/\n"
     ]
    }
   ],
   "source": [
    "print(r_vege.text[0:600])"
   ]
  },
  {
   "cell_type": "code",
   "execution_count": 4,
   "metadata": {},
   "outputs": [],
   "source": [
    "from bs4 import BeautifulSoup\n",
    "soup_vege=BeautifulSoup(r_vege.text,'html.parser')"
   ]
  },
  {
   "cell_type": "code",
   "execution_count": 5,
   "metadata": {},
   "outputs": [],
   "source": [
    "res_vege = soup_vege.find_all('ul')"
   ]
  },
  {
   "cell_type": "code",
   "execution_count": 6,
   "metadata": {},
   "outputs": [
    {
     "data": {
      "text/plain": [
       "12"
      ]
     },
     "execution_count": 6,
     "metadata": {},
     "output_type": "execute_result"
    }
   ],
   "source": [
    "len(res_vege)"
   ]
  },
  {
   "cell_type": "code",
   "execution_count": 42,
   "metadata": {},
   "outputs": [
    {
     "data": {
      "text/plain": [
       "'Frozen green peas'"
      ]
     },
     "execution_count": 42,
     "metadata": {},
     "output_type": "execute_result"
    }
   ],
   "source": [
    "res_vege[1].contents[0].text[0:-26]\n",
    "#foods under this heading - The GI scores for some popular vegetables are:\n",
    "#contents[i] changes,i index value =[0,1,3] as at index 2 brocolli repeated in res_vege[2]'s data\n",
    "#brocolli ignored as it'll repeat next"
   ]
  },
  {
   "cell_type": "code",
   "execution_count": 52,
   "metadata": {},
   "outputs": [
    {
     "data": {
      "text/plain": [
       "'artichoke'"
      ]
     },
     "execution_count": 52,
     "metadata": {},
     "output_type": "execute_result"
    }
   ],
   "source": [
    "res_vege[2].contents[0].text\n",
    "#foods under this heading - Low-GI vegetables are also safe for people with diabetes, such as:\n",
    "#loop through changing through contents[i], 0 <= i <= 10"
   ]
  },
  {
   "cell_type": "code",
   "execution_count": 41,
   "metadata": {},
   "outputs": [
    {
     "data": {
      "text/plain": [
       "'Carrots'"
      ]
     },
     "execution_count": 41,
     "metadata": {},
     "output_type": "execute_result"
    }
   ],
   "source": [
    "res_vege[1].contents[1].text[0:-38]\n",
    "#foods under this heading - The GI scores for some popular vegetables are:"
   ]
  },
  {
   "cell_type": "code",
   "execution_count": 47,
   "metadata": {},
   "outputs": [
    {
     "data": {
      "text/plain": [
       "'Tomatoes'"
      ]
     },
     "execution_count": 47,
     "metadata": {},
     "output_type": "execute_result"
    }
   ],
   "source": [
    "res_vege[1].contents[3].text[0:-10]\n",
    "#foods under this heading - The GI scores for some popular vegetables are:"
   ]
  },
  {
   "cell_type": "code",
   "execution_count": 63,
   "metadata": {},
   "outputs": [
    {
     "data": {
      "text/plain": [
       "'rhubarb'"
      ]
     },
     "execution_count": 63,
     "metadata": {},
     "output_type": "execute_result"
    }
   ],
   "source": [
    "res_vege[3].contents[4].text\n",
    "#foods under this heading - High-nitrate content\n",
    "#loop through changing through contents[i], i index value =[0,1,4] as at index 2,3 lettuce,celery repeated"
   ]
  },
  {
   "cell_type": "code",
   "execution_count": 64,
   "metadata": {},
   "outputs": [
    {
     "data": {
      "text/plain": [
       "'spinach'"
      ]
     },
     "execution_count": 64,
     "metadata": {},
     "output_type": "execute_result"
    }
   ],
   "source": [
    "res_vege[4].contents[0].text\n",
    "#foods under this heading - Protein\n",
    "#loop through changing through contents[i]\n",
    "#i index value =[0,1,3,5] as at index 2,4,6 asparagus,brocolli,cauliflower repeated"
   ]
  },
  {
   "cell_type": "code",
   "execution_count": 66,
   "metadata": {},
   "outputs": [
    {
     "data": {
      "text/plain": [
       "'avocados'"
      ]
     },
     "execution_count": 66,
     "metadata": {},
     "output_type": "execute_result"
    }
   ],
   "source": [
    "res_vege[5].contents[6].text\n",
    "#foods under this heading - Fiber\n",
    "#dont know if needed or not as there is already fibre rich scraped data \n",
    "#loop through changing through contents[i], only index [5,6],i.e, split peas & avocados needed\n",
    "#rest repeated"
   ]
  },
  {
   "cell_type": "code",
   "execution_count": null,
   "metadata": {},
   "outputs": [],
   "source": []
  },
  {
   "cell_type": "code",
   "execution_count": 71,
   "metadata": {},
   "outputs": [
    {
     "data": {
      "text/plain": [
       "'tofu and tempeh'"
      ]
     },
     "execution_count": 71,
     "metadata": {},
     "output_type": "execute_result"
    }
   ],
   "source": [
    "res_vege[6].contents[8].text\n",
    "#foods under this heading - Eating vegan or vegetarian with diabetes \n",
    "# sub heading - Some of the most protein-rich vegan options include:\n",
    "#loop through changing through contents[i], 0 <= i <= 8"
   ]
  },
  {
   "cell_type": "code",
   "execution_count": 74,
   "metadata": {},
   "outputs": [
    {
     "data": {
      "text/plain": [
       "'almond butter on sprouted-grain bread with a topping of avocado and crushed red pepper flakes'"
      ]
     },
     "execution_count": 74,
     "metadata": {},
     "output_type": "execute_result"
    }
   ],
   "source": [
    "res_vege[7].contents[7].text\n",
    "#foods under this heading - Healthful diabetes meals\n",
    "# sub heading - Some simple meal options include:\n",
    "#loop through changing through contents[i], 0 <= i <= 7"
   ]
  },
  {
   "cell_type": "code",
   "execution_count": null,
   "metadata": {},
   "outputs": [],
   "source": [
    "#we can arrange above data in one or more columns as per our choice of the same\n",
    "#for example - we can have 1 column just for Meals, one for Protein, one for High-nitrate content,\n",
    "#one for low gi vegetables etc\n",
    "\n",
    "#note - the columns examples are only wrt to this scraped link's data\n",
    "\n",
    "#other notebooks have individual columns of high rich fibre diet data,nuts,fruits data\n",
    "\n",
    "#we can combine them later "
   ]
  },
  {
   "cell_type": "code",
   "execution_count": 1,
   "metadata": {},
   "outputs": [],
   "source": [
    "import requests\n",
    "r_fr= requests.get(\"https://food.ndtv.com/health/fibre-rich-foods-for-diabetes-5-foods-that-manage-blood-sugar-levels-1881690\")"
   ]
  },
  {
   "cell_type": "code",
   "execution_count": 2,
   "metadata": {
    "scrolled": true
   },
   "outputs": [
    {
     "name": "stdout",
     "output_type": "stream",
     "text": [
      "<!DOCTYPE HTML PUBLIC \"-//W3C//DTD HTML 4.01 Transitional//EN\" \"http://www.w3.org/TR/html4/loose.dtd\"><html><head itemscope itemtype=\"https://schema.org/WebPage\"><meta http-equiv=\"Content-Type\" content=\"text/html; charset=utf-8\" /><meta http-equiv=\"X-UA-Compatible\" content=\"IE=edge\" ><meta name=\"apple-itunes-app\" content=\"app-id=545694875\" ><link rel=\"icon\" type=\"image/x-icon\" href=\"https://food.ndtv.com/favicon.ico?v=01.20200622\"><!--<link rel=\"apple-touch-icon\" sizes=\"114x114\" href=\"https://food.ndtv.com/apple-touch-icon-114-new.png\">--><link rel=\"apple-touch-icon\" sizes=\"144x144\" href=\"http\n"
     ]
    }
   ],
   "source": [
    "print(r_fr.text[0:600])"
   ]
  },
  {
   "cell_type": "code",
   "execution_count": 3,
   "metadata": {},
   "outputs": [],
   "source": [
    "from bs4 import BeautifulSoup\n",
    "soup_fr=BeautifulSoup(r_fr.text,'html.parser')"
   ]
  },
  {
   "cell_type": "code",
   "execution_count": 4,
   "metadata": {},
   "outputs": [],
   "source": [
    "res_fr = soup_fr.find_all('strong')"
   ]
  },
  {
   "cell_type": "code",
   "execution_count": 5,
   "metadata": {},
   "outputs": [
    {
     "data": {
      "text/plain": [
       "16"
      ]
     },
     "execution_count": 5,
     "metadata": {},
     "output_type": "execute_result"
    }
   ],
   "source": [
    "len(res_fr)"
   ]
  },
  {
   "cell_type": "code",
   "execution_count": 6,
   "metadata": {},
   "outputs": [
    {
     "data": {
      "text/plain": [
       "[<strong>(Also Read -<span itemscope=\"\" itemtype=\"https://schema.org/NewsArticle\"><a href=\"https://food.ndtv.com/food-drinks/how-to-control-diabetes-naturally-5-remedies-to-control-your-sugar-levels-1847527\">How To Control Diabetes Naturally: 5 Remedies To Manage Your Sugar Levels</a>)</span></strong>,\n",
       " <strong>Here Are 5 Foods That Help Manage Diabetes</strong>,\n",
       " <strong>Lentils</strong>,\n",
       " <strong>(Also Read -<span itemscope=\"\" itemtype=\"https://schema.org/NewsArticle\"><a href=\"https://food.ndtv.com/food-drinks/5-genius-ways-to-use-lentils-in-your-cooking-beyond-plain-ol-dal-1642335\">5 Genius Ways To Use Lentils in Your Cooking Beyond Plain Ol' Dal</a>)</span></strong>,\n",
       " <strong>Flaxseed</strong>,\n",
       " <strong> (Also Read -<span itemscope=\"\" itemtype=\"https://schema.org/NewsArticle\"><a href=\"https://food.ndtv.com/food-drinks/amazing-benefits-of-having-flaxseed-ladoos-in-winters-1795433\">Amazing Benefits Of Having Flaxseed (Alsi) Ladoos In Winters</a>)</span></strong>,\n",
       " <strong>Whole Grains</strong>,\n",
       " <strong>(Also Read -<span itemscope=\"\" itemtype=\"https://schema.org/NewsArticle\"><a href=\"https://food.ndtv.com/health/want-to-live-longer-eat-more-whole-grains-1418990\"> Want to Live Longer? Eat More Whole Grains</a>)</span></strong>,\n",
       " <strong>Fenugreek</strong>,\n",
       " <strong>(Also Read -<span itemscope=\"\" itemtype=\"https://schema.org/NewsArticle\"><a href=\"https://food.ndtv.com/lists/10-best-methi-recipes-740827\">10 Best Methi Recipes</a>)</span></strong>,\n",
       " <strong>Guava</strong>,\n",
       " <strong>(Also Read -<span itemscope=\"\" itemtype=\"https://schema.org/NewsArticle\"><a href=\"https://food.ndtv.com/beauty/guava-leaves-for-hair-growth-how-to-use-this-ancient-beauty-remedy-1629193\">Guava Leaves for Hair Growth: How to Use This Ancient Beauty Remedy</a>)</span></strong>,\n",
       " <strong>Fiber</strong>,\n",
       " <strong>Diabetes</strong>,\n",
       " <strong>Blood Sugar Control</strong>,\n",
       " <strong>Fibre Rich Food</strong>]"
      ]
     },
     "execution_count": 6,
     "metadata": {},
     "output_type": "execute_result"
    }
   ],
   "source": [
    "res_fr\n"
   ]
  },
  {
   "cell_type": "code",
   "execution_count": 13,
   "metadata": {},
   "outputs": [],
   "source": [
    "res_fr_final = []\n",
    "indices = [2,4,6,8,10]\n",
    "\n",
    "for index in indices:\n",
    "    res_fr_final.append(res_fr[index].text)"
   ]
  },
  {
   "cell_type": "code",
   "execution_count": 14,
   "metadata": {},
   "outputs": [
    {
     "data": {
      "text/plain": [
       "['Lentils', 'Flaxseed', 'Whole Grains', 'Fenugreek', 'Guava']"
      ]
     },
     "execution_count": 14,
     "metadata": {},
     "output_type": "execute_result"
    }
   ],
   "source": [
    "res_fr_final"
   ]
  },
  {
   "cell_type": "code",
   "execution_count": null,
   "metadata": {},
   "outputs": [],
   "source": []
  },
  {
   "cell_type": "code",
   "execution_count": 19,
   "metadata": {},
   "outputs": [],
   "source": [
    "import requests\n",
    "r_fru= requests.get(\"https://www.healthline.com/health/diabetes/low-glycemic-fruits-for-diabetes\")"
   ]
  },
  {
   "cell_type": "code",
   "execution_count": 21,
   "metadata": {},
   "outputs": [
    {
     "name": "stdout",
     "output_type": "stream",
     "text": [
      "<!DOCTYPE html><html lang=\"en\"><head>\n",
      "<link rel=preload href=\"https://assets.medicalnewstoday.com/_next/vendor-02c5d-legacy.js\" as=script crossorigin=anonymous><link rel=preload href=\"https://assets.medicalnewstoday.com/_next/lib-44554-legacy.js\" as=script crossorigin=anonymous><link rel=preload href=\"https://assets.medicalnewstoday.com/_next/b451dca2-41ac-499b-9453-ea5291eb7197/hl/pages/tabbed.js-legacy.js\" as=script crossorigin=anonymous>\n",
      "<title>10 Low-Glycemic Fruits for Diabetes</title><link rel=\"canonical\" href=\"https://www.healthline.com/health/diabetes/low-glycemic-fruits-for-diabetes\"/\n"
     ]
    }
   ],
   "source": [
    "print(r_fru.text[0:600])"
   ]
  },
  {
   "cell_type": "code",
   "execution_count": 22,
   "metadata": {},
   "outputs": [],
   "source": [
    "from bs4 import BeautifulSoup\n",
    "soup_fru=BeautifulSoup(r_fru.text,'html.parser')"
   ]
  },
  {
   "cell_type": "code",
   "execution_count": 23,
   "metadata": {},
   "outputs": [],
   "source": [
    "res_fru = soup_fru.find_all('h2')"
   ]
  },
  {
   "cell_type": "code",
   "execution_count": 24,
   "metadata": {},
   "outputs": [
    {
     "data": {
      "text/plain": [
       "13"
      ]
     },
     "execution_count": 24,
     "metadata": {},
     "output_type": "execute_result"
    }
   ],
   "source": [
    "len(res_fru)"
   ]
  },
  {
   "cell_type": "code",
   "execution_count": 25,
   "metadata": {},
   "outputs": [
    {
     "data": {
      "text/plain": [
       "[<h2 class=\"css-13i30ag\"><div><a name=\"overview\"> Safer fruits for diabetes</a></div></h2>,\n",
       " <h2><div><a name=\"glycemic-index\"> What is the glycemic\n",
       " index?</a></div></h2>,\n",
       " <h2><div><a name=\"cherries\"> 1. Cherries</a></div></h2>,\n",
       " <h2><div><a name=\"grapefruit\"> 2. Grapefruit</a></div></h2>,\n",
       " <h2><div><a name=\"dried-apricots\"> 3. Dried apricots</a></div></h2>,\n",
       " <h2><div><a name=\"pears\"> 4. Pears</a></div></h2>,\n",
       " <h2><div><a name=\"apples\"> 5. Apples</a></div></h2>,\n",
       " <h2><div><a name=\"oranges\"> 6. Oranges</a></div></h2>,\n",
       " <h2><div><a name=\"plums\"> 7. Plums</a></div></h2>,\n",
       " <h2><div><a name=\"strawberries\"> 8. Strawberries</a></div></h2>,\n",
       " <h2><div><a name=\"peaches\"> 9. Peaches</a></div></h2>,\n",
       " <h2><div><a name=\"grapes\"> 10. Grapes</a></div></h2>,\n",
       " <h2 class=\"css-11kr1sc\">related stories</h2>]"
      ]
     },
     "execution_count": 25,
     "metadata": {},
     "output_type": "execute_result"
    }
   ],
   "source": [
    "res_fru"
   ]
  },
  {
   "cell_type": "code",
   "execution_count": 44,
   "metadata": {},
   "outputs": [
    {
     "data": {
      "text/plain": [
       "'Grapefruit'"
      ]
     },
     "execution_count": 44,
     "metadata": {},
     "output_type": "execute_result"
    }
   ],
   "source": [
    "res_fru[3].find('a').text[4:]"
   ]
  },
  {
   "cell_type": "code",
   "execution_count": 46,
   "metadata": {},
   "outputs": [],
   "source": [
    "res_fru_final = []\n",
    "indices = [2,3,4,5,6,7,8,9,10,11]\n",
    "\n",
    "for index in indices:\n",
    "    res_fru_final.append(res_fru[index].find('a').text[4:])"
   ]
  },
  {
   "cell_type": "code",
   "execution_count": 47,
   "metadata": {},
   "outputs": [
    {
     "data": {
      "text/plain": [
       "['Cherries',\n",
       " 'Grapefruit',\n",
       " 'Dried apricots',\n",
       " 'Pears',\n",
       " 'Apples',\n",
       " 'Oranges',\n",
       " 'Plums',\n",
       " 'Strawberries',\n",
       " 'Peaches',\n",
       " ' Grapes']"
      ]
     },
     "execution_count": 47,
     "metadata": {},
     "output_type": "execute_result"
    }
   ],
   "source": [
    "res_fru_final"
   ]
  },
  {
   "cell_type": "code",
   "execution_count": null,
   "metadata": {},
   "outputs": [],
   "source": []
  },
  {
   "cell_type": "code",
   "execution_count": 1,
   "metadata": {},
   "outputs": [],
   "source": [
    "import requests\n",
    "r_nuts= requests.get(\"https://www.medicalnewstoday.com/articles/324141#almonds\")"
   ]
  },
  {
   "cell_type": "code",
   "execution_count": 2,
   "metadata": {
    "scrolled": false
   },
   "outputs": [
    {
     "name": "stdout",
     "output_type": "stream",
     "text": [
      "<!DOCTYPE html><html lang=\"en\"><head>\n",
      "<link rel=preload href=\"https://assets.medicalnewstoday.com/_next/vendor-f5baf-legacy.js\" as=script crossorigin=anonymous><link rel=preload href=\"https://assets.medicalnewstoday.com/_next/lib-2dd72-legacy.js\" as=script crossorigin=anonymous><link rel=preload href=\"https://assets.medicalnewstoday.com/_next/b451dca2-41ac-499b-9453-ea5291eb7197/mnt/pages/tabbed.js-legacy.js\" as=script crossorigin=anonymous>\n",
      "<title>The 5 best nuts for diabetes</title><link rel=\"canonical\" href=\"https://www.medicalnewstoday.com/articles/324141\"/><meta name=\"description\" content\n"
     ]
    }
   ],
   "source": [
    "print(r_nuts.text[0:600])"
   ]
  },
  {
   "cell_type": "code",
   "execution_count": 3,
   "metadata": {},
   "outputs": [],
   "source": [
    "from bs4 import BeautifulSoup\n",
    "soup_nuts=BeautifulSoup(r_nuts.text,'html.parser')"
   ]
  },
  {
   "cell_type": "code",
   "execution_count": 4,
   "metadata": {},
   "outputs": [],
   "source": [
    "res_nuts = soup_nuts.find_all('h2')"
   ]
  },
  {
   "cell_type": "code",
   "execution_count": 5,
   "metadata": {},
   "outputs": [
    {
     "data": {
      "text/plain": [
       "8"
      ]
     },
     "execution_count": 5,
     "metadata": {},
     "output_type": "execute_result"
    }
   ],
   "source": [
    "len(res_nuts)"
   ]
  },
  {
   "cell_type": "code",
   "execution_count": 6,
   "metadata": {},
   "outputs": [
    {
     "data": {
      "text/plain": [
       "[<h2><div><a name=\"why-are-nuts-useful-for-diabetes\">Why are nuts useful for diabetes?</a></div></h2>,\n",
       " <h2><div><a name=\"almonds\">Almonds</a></div></h2>,\n",
       " <h2><div><a name=\"walnuts\">Walnuts</a></div></h2>,\n",
       " <h2><div><a name=\"cashews\">Cashews</a></div></h2>,\n",
       " <h2><div><a name=\"pistachios\">Pistachios</a></div></h2>,\n",
       " <h2><div><a name=\"peanuts\">Peanuts</a></div></h2>,\n",
       " <h2><div><a name=\"takeaway\">Takeaway</a></div></h2>,\n",
       " <h2 class=\"css-1nnldnv\">Latest news</h2>]"
      ]
     },
     "execution_count": 6,
     "metadata": {},
     "output_type": "execute_result"
    }
   ],
   "source": [
    "res_nuts"
   ]
  },
  {
   "cell_type": "code",
   "execution_count": 15,
   "metadata": {},
   "outputs": [
    {
     "data": {
      "text/plain": [
       "'Almonds'"
      ]
     },
     "execution_count": 15,
     "metadata": {},
     "output_type": "execute_result"
    }
   ],
   "source": [
    "res_nuts[1].find('a').text"
   ]
  },
  {
   "cell_type": "code",
   "execution_count": 16,
   "metadata": {},
   "outputs": [],
   "source": [
    "res_nuts_final = []\n",
    "indices = [1,2,3,4,5]\n",
    "\n",
    "for index in indices:\n",
    "    res_nuts_final.append(res_nuts[index].find('a').text)"
   ]
  },
  {
   "cell_type": "code",
   "execution_count": 17,
   "metadata": {},
   "outputs": [
    {
     "data": {
      "text/plain": [
       "['Almonds', 'Walnuts', 'Cashews', 'Pistachios', 'Peanuts']"
      ]
     },
     "execution_count": 17,
     "metadata": {},
     "output_type": "execute_result"
    }
   ],
   "source": [
    "res_nuts_final"
   ]
  },
  {
   "cell_type": "code",
   "execution_count": null,
   "metadata": {},
   "outputs": [],
   "source": []
  },
  {
   "cell_type": "code",
   "execution_count": 1,
   "metadata": {},
   "outputs": [],
   "source": [
    "import requests\n",
    "r_diet=requests.get(\"https://www.everydayhealth.com/type-2-diabetes/diet/guide-eating-dairy-with-diabetes/\")\n"
   ]
  },
  {
   "cell_type": "code",
   "execution_count": 3,
   "metadata": {},
   "outputs": [
    {
     "name": "stdout",
     "output_type": "stream",
     "text": [
      "﻿<!DOCTYPE html><html lang=\"en\"><head><meta charset=\"utf-8\" /><meta http-equiv=\"X-UA-Compatible\" content=\"IE=edge\" /><meta name=\"msapplication-config\" content=\"none\" /><meta name=\"viewport\" content=\"width=device-width, initial-scale=1.0, minimum-scale=1.0, maximum-scale=1.0\" /><meta property=\"og:title\" content=\"A Guide for Eating Dairy With Diabetes | Everyday Health\" /><meta property=\"og:url\" content=\"https://www.everydayhealth.com/type-2-diabetes/diet/guide-eating-dairy-with-diabetes/\" /><meta property=\"og:description\" content=\"Figuring out how much and what kinds of dairy to work into your \n"
     ]
    }
   ],
   "source": [
    "print(r_diet.text[0:600])\n",
    "#ignore"
   ]
  },
  {
   "cell_type": "code",
   "execution_count": 4,
   "metadata": {},
   "outputs": [],
   "source": [
    "from bs4 import BeautifulSoup\n",
    "soup=BeautifulSoup(r_diet.text,'html.parser')\n"
   ]
  },
  {
   "cell_type": "code",
   "execution_count": 5,
   "metadata": {},
   "outputs": [],
   "source": [
    "res_rd=soup.find_all('h3')\n"
   ]
  },
  {
   "cell_type": "code",
   "execution_count": 6,
   "metadata": {},
   "outputs": [
    {
     "data": {
      "text/plain": [
       "12"
      ]
     },
     "execution_count": 6,
     "metadata": {},
     "output_type": "execute_result"
    }
   ],
   "source": [
    "len(res_rd)"
   ]
  },
  {
   "cell_type": "code",
   "execution_count": 7,
   "metadata": {},
   "outputs": [
    {
     "data": {
      "text/plain": [
       "[<h3>Greek Yogurt</h3>,\n",
       " <h3>String Cheese</h3>,\n",
       " <h3>Grass-Fed Dairy</h3>,\n",
       " <h3>Fat-Free Milk</h3>,\n",
       " <h3>Sweetened Dairy Products</h3>,\n",
       " <h3 class=\"latest-feed-item__title\"><a class=\"cr-anchor\" href=\"https://www.everydayhealth.com/type-2-diabetes/increasing-in-children-and-teens-especially-in-youth-of-color/\" rel=\"noopener noreferrer\">Type 2 Diabetes Is Increasing in Children and Teens, Especially in BIPOC Youth</a></h3>,\n",
       " <h3 class=\"latest-feed-item__title\"><a class=\"cr-anchor\" href=\"https://www.everydayhealth.com/type-2-diabetes/stay-on-track-with-goals/\" rel=\"noopener noreferrer\">How to Stay on With Your Track Type 2 Diabetes Goals</a></h3>,\n",
       " <h3 class=\"latest-feed-item__title\"><a class=\"cr-anchor\" href=\"https://www.everydayhealth.com/type-2-diabetes/questions-to-ask-about-stepping-up-treatment/\" rel=\"noopener noreferrer\">9 Questions to Ask Your Doctor About Stepping Up Your Type 2 Diabetes Treatment Plan</a></h3>,\n",
       " <h3 class=\"latest-feed-item__title\"><a class=\"cr-anchor\" href=\"https://www.everydayhealth.com/type-2-diabetes/reasons-for-not-hitting-your-a1c-goal/\" rel=\"noopener noreferrer\">7 Reasons You’re Not Hitting Your A1C Goal</a></h3>,\n",
       " <h3 class=\"latest-feed-item__title\"><a class=\"cr-anchor\" href=\"https://www.everydayhealth.com/type-2-diabetes/too-little-too-much-sleep-linked-to-earlier-death-in-people-with-diabetes/\" rel=\"noopener noreferrer\">Too Little (or Too Much) Sleep Linked to Earlier Death in People With Diabetes</a></h3>,\n",
       " <h3 class=\"text-promo__title text-promo__multiple\"><a class=\"cr-anchor text-promo__text\" href=\"https://www.everydayhealth.com/type-2-diabetes/adding-dairy-to-your-diet-may-help-prevent-diabetes-and-high-blood-pressure/\" rel=\"noopener noreferrer\" title=\"\">Adding Dairy to Your Diet May Help Prevent Diabetes and High Blood Pressure</a></h3>,\n",
       " <h3 class=\"text-promo__title text-promo__multiple\"><a class=\"cr-anchor text-promo__text\" href=\"https://www.everydayhealth.com/type-2-diabetes/diet/superfoods-for-your-diabetes-diet/\" rel=\"noopener noreferrer\" title=\"\">11 Vitamin-Packed Superfoods for People With Type 2 Diabetes</a></h3>]"
      ]
     },
     "execution_count": 7,
     "metadata": {},
     "output_type": "execute_result"
    }
   ],
   "source": [
    "res_rd[0:1200]\n",
    "#ignore "
   ]
  },
  {
   "cell_type": "code",
   "execution_count": 9,
   "metadata": {},
   "outputs": [
    {
     "data": {
      "text/plain": [
       "[<h3>Greek Yogurt</h3>, <h3>String Cheese</h3>, <h3>Grass-Fed Dairy</h3>]"
      ]
     },
     "execution_count": 9,
     "metadata": {},
     "output_type": "execute_result"
    }
   ],
   "source": [
    "res_rd[0:3]"
   ]
  },
  {
   "cell_type": "code",
   "execution_count": 10,
   "metadata": {},
   "outputs": [],
   "source": [
    "first_rd = res_rd[0]"
   ]
  },
  {
   "cell_type": "code",
   "execution_count": 11,
   "metadata": {},
   "outputs": [],
   "source": [
    "first_rd.find('h3')\n",
    "#ignore"
   ]
  },
  {
   "cell_type": "code",
   "execution_count": 13,
   "metadata": {},
   "outputs": [
    {
     "data": {
      "text/plain": [
       "'Greek Yogurt'"
      ]
     },
     "execution_count": 13,
     "metadata": {},
     "output_type": "execute_result"
    }
   ],
   "source": [
    "first_rd.text\n"
   ]
  },
  {
   "cell_type": "code",
   "execution_count": 16,
   "metadata": {},
   "outputs": [],
   "source": [
    "record_rd = []\n",
    "cnt = 0\n",
    "for i in res_rd:\n",
    "    cnt = cnt + 1\n",
    "    data_rd = i.text\n",
    "    if cnt > 3:\n",
    "        break\n",
    "    record_rd.append((data_rd))    "
   ]
  },
  {
   "cell_type": "raw",
   "metadata": {},
   "source": [
    "len(record_rd)\n",
    "#ignore"
   ]
  },
  {
   "cell_type": "code",
   "execution_count": 17,
   "metadata": {},
   "outputs": [
    {
     "data": {
      "text/plain": [
       "3"
      ]
     },
     "execution_count": 17,
     "metadata": {},
     "output_type": "execute_result"
    }
   ],
   "source": [
    "len(record_rd)"
   ]
  },
  {
   "cell_type": "code",
   "execution_count": 18,
   "metadata": {},
   "outputs": [
    {
     "data": {
      "text/plain": [
       "['Greek Yogurt', 'String Cheese', 'Grass-Fed Dairy']"
      ]
     },
     "execution_count": 18,
     "metadata": {},
     "output_type": "execute_result"
    }
   ],
   "source": [
    "record_rd\n"
   ]
  },
  {
   "cell_type": "code",
   "execution_count": null,
   "metadata": {},
   "outputs": [],
   "source": []
  }
 ],
 "metadata": {
  "kernelspec": {
   "display_name": "Python 3",
   "language": "python",
   "name": "python3"
  },
  "language_info": {
   "codemirror_mode": {
    "name": "ipython",
    "version": 3
   },
   "file_extension": ".py",
   "mimetype": "text/x-python",
   "name": "python",
   "nbconvert_exporter": "python",
   "pygments_lexer": "ipython3",
   "version": "3.8.3rc1"
  }
 },
 "nbformat": 4,
 "nbformat_minor": 2
}
