{
 "cells": [
  {
   "cell_type": "code",
   "execution_count": 1,
   "metadata": {},
   "outputs": [],
   "source": [
    "import requests\n",
    "r_lgv= requests.get(\"https://www.health.harvard.edu/diseases-and-conditions/glycemic-index-and-glycemic-load-for-100-foods\")"
   ]
  },
  {
   "cell_type": "code",
   "execution_count": 2,
   "metadata": {},
   "outputs": [
    {
     "name": "stdout",
     "output_type": "stream",
     "text": [
      "<!DOCTYPE html>\n",
      "<html class=\"no-js\">\n",
      "<head>\n",
      "    \n",
      "    <meta http-equiv=\"Content-type\" content=\"text/html; charset=UTF-8\">\n",
      "\n",
      "\t<title>Glycemic index for 60+ foods - Harvard Health</title>\n",
      "\n",
      "\t<link rel=\"canonical\" href=\"https://www.health.harvard.edu/diseases-and-conditions/glycemic-index-and-glycemic-load-for-100-foods\">\n",
      "\n",
      "\t<meta name=\"description\" content=\"The glycemic index is a value assigned to foods based on how slowly or how quickly those foods cause increases in blood glucose levels. Foods low on the glycemic&#8230;\">\n",
      "\t<meta name=\"keywords\" content=\"health, information, medical, information, \n"
     ]
    }
   ],
   "source": [
    "print(r_lgv.text[0:600])"
   ]
  },
  {
   "cell_type": "code",
   "execution_count": 3,
   "metadata": {},
   "outputs": [],
   "source": [
    "from bs4 import BeautifulSoup\n",
    "soup_rlgv=BeautifulSoup(r_lgv.text,'html.parser')"
   ]
  },
  {
   "cell_type": "code",
   "execution_count": 4,
   "metadata": {},
   "outputs": [],
   "source": [
    "r_lgv1 = soup_rlgv.find_all('td',attrs={'valign':'top'})"
   ]
  },
  {
   "cell_type": "code",
   "execution_count": 5,
   "metadata": {},
   "outputs": [
    {
     "data": {
      "text/plain": [
       "154"
      ]
     },
     "execution_count": 5,
     "metadata": {},
     "output_type": "execute_result"
    }
   ],
   "source": [
    "len(r_lgv1)"
   ]
  },
  {
   "cell_type": "code",
   "execution_count": 6,
   "metadata": {},
   "outputs": [
    {
     "data": {
      "text/plain": [
       "[<td valign=\"top\"><strong>HIGH-CARBOHYDRATE FOODS</strong></td>,\n",
       " <td valign=\"top\"> </td>,\n",
       " <td valign=\"top\">White wheat bread*</td>,\n",
       " <td valign=\"top\">75 ± 2</td>,\n",
       " <td valign=\"top\">Whole wheat/whole meal bread</td>,\n",
       " <td valign=\"top\">74 ± 2</td>,\n",
       " <td valign=\"top\">Specialty grain bread</td>,\n",
       " <td valign=\"top\">53 ± 2</td>,\n",
       " <td valign=\"top\">Unleavened wheat bread</td>,\n",
       " <td valign=\"top\">70 ± 5</td>,\n",
       " <td valign=\"top\">Wheat roti</td>,\n",
       " <td valign=\"top\">62 ± 3</td>,\n",
       " <td valign=\"top\">Chapatti</td>,\n",
       " <td valign=\"top\">52 ± 4</td>,\n",
       " <td valign=\"top\">Corn tortilla</td>,\n",
       " <td valign=\"top\">46 ± 4</td>,\n",
       " <td valign=\"top\">White rice, boiled*</td>,\n",
       " <td valign=\"top\">73 ± 4</td>,\n",
       " <td valign=\"top\">Brown rice, boiled</td>,\n",
       " <td valign=\"top\">68 ± 4</td>,\n",
       " <td valign=\"top\">Barley</td>,\n",
       " <td valign=\"top\">28 ± 2</td>,\n",
       " <td valign=\"top\">Sweet corn</td>,\n",
       " <td valign=\"top\">52 ± 5</td>,\n",
       " <td valign=\"top\">Spaghetti, white</td>,\n",
       " <td valign=\"top\">49 ± 2</td>,\n",
       " <td valign=\"top\">Spaghetti, whole meal</td>,\n",
       " <td valign=\"top\">48 ± 5</td>,\n",
       " <td valign=\"top\">Rice noodles†</td>,\n",
       " <td valign=\"top\">53 ± 7</td>,\n",
       " <td valign=\"top\">Udon noodles</td>,\n",
       " <td valign=\"top\">55 ± 7</td>,\n",
       " <td valign=\"top\">Couscous†</td>,\n",
       " <td valign=\"top\">65 ± 4</td>,\n",
       " <td valign=\"top\"> </td>,\n",
       " <td valign=\"top\"> </td>,\n",
       " <td valign=\"top\"><strong>BREAKFAST CEREALS</strong></td>,\n",
       " <td valign=\"top\"> </td>,\n",
       " <td valign=\"top\">Cornflakes</td>,\n",
       " <td valign=\"top\">81 ± 6</td>]"
      ]
     },
     "execution_count": 6,
     "metadata": {},
     "output_type": "execute_result"
    }
   ],
   "source": [
    "r_lgv1[0:40]"
   ]
  },
  {
   "cell_type": "code",
   "execution_count": 7,
   "metadata": {},
   "outputs": [
    {
     "data": {
      "text/plain": [
       "'White wheat bread*'"
      ]
     },
     "execution_count": 7,
     "metadata": {},
     "output_type": "execute_result"
    }
   ],
   "source": [
    "r_lgv1[2].text"
   ]
  },
  {
   "cell_type": "code",
   "execution_count": 8,
   "metadata": {},
   "outputs": [
    {
     "data": {
      "text/plain": [
       "'White wheat bread'"
      ]
     },
     "execution_count": 8,
     "metadata": {},
     "output_type": "execute_result"
    }
   ],
   "source": [
    "r_lgv1[2].text[:-1]"
   ]
  },
  {
   "cell_type": "code",
   "execution_count": 9,
   "metadata": {},
   "outputs": [
    {
     "data": {
      "text/plain": [
       "'75'"
      ]
     },
     "execution_count": 9,
     "metadata": {},
     "output_type": "execute_result"
    }
   ],
   "source": [
    "r_lgv1[3].text[:-4]"
   ]
  },
  {
   "cell_type": "code",
   "execution_count": 10,
   "metadata": {},
   "outputs": [
    {
     "data": {
      "text/plain": [
       "'White rice, boiled*'"
      ]
     },
     "execution_count": 10,
     "metadata": {},
     "output_type": "execute_result"
    }
   ],
   "source": [
    "r_lgv1[16].text#[:-1]"
   ]
  },
  {
   "cell_type": "code",
   "execution_count": 11,
   "metadata": {},
   "outputs": [],
   "source": [
    "res_highcarbo_mg =[]#for medium gi\n",
    "res_highcarbo_lg =[]#for low gi\n",
    "res_highcarbo_hg =[]#for high gi\n",
    "#remove 2,8,14, 24 to full\n",
    "\n",
    "#res_highcarbo_mg.append(r_lgv1[2].text[:-1])\n",
    "\n",
    "index_highcarbo_mg =[4,10,18]\n",
    "index_highcarbo_lg =[6,12,20,22]\n",
    "\n",
    "index_highcarbo_hg =[]#16 splice it\n",
    "res_highcarbo_hg.append(r_lgv1[16].text[:-1])\n",
    "\n",
    "for i in index_highcarbo_mg:\n",
    "    res_highcarbo_mg.append(r_lgv1[i].text)\n",
    "\n",
    "for j in index_highcarbo_lg:\n",
    "    res_highcarbo_lg.append(r_lgv1[j].text)\n",
    "\n"
   ]
  },
  {
   "cell_type": "code",
   "execution_count": 12,
   "metadata": {},
   "outputs": [
    {
     "data": {
      "text/plain": [
       "['White rice, boiled']"
      ]
     },
     "execution_count": 12,
     "metadata": {},
     "output_type": "execute_result"
    }
   ],
   "source": [
    "res_highcarbo_hg"
   ]
  },
  {
   "cell_type": "code",
   "execution_count": 13,
   "metadata": {},
   "outputs": [],
   "source": [
    "#end of high carbo low,med,high gi "
   ]
  },
  {
   "cell_type": "code",
   "execution_count": 14,
   "metadata": {},
   "outputs": [],
   "source": [
    "#breakfast cereals"
   ]
  },
  {
   "cell_type": "code",
   "execution_count": 15,
   "metadata": {},
   "outputs": [
    {
     "data": {
      "text/plain": [
       "[<td valign=\"top\"><strong>BREAKFAST CEREALS</strong></td>,\n",
       " <td valign=\"top\"> </td>,\n",
       " <td valign=\"top\">Cornflakes</td>,\n",
       " <td valign=\"top\">81 ± 6</td>,\n",
       " <td valign=\"top\">Wheat flake biscuits</td>,\n",
       " <td valign=\"top\">69 ± 2</td>,\n",
       " <td valign=\"top\">Porridge, rolled oats</td>,\n",
       " <td valign=\"top\">55 ± 2</td>,\n",
       " <td valign=\"top\">Instant oat porridge</td>,\n",
       " <td valign=\"top\">79 ± 3</td>,\n",
       " <td valign=\"top\">Rice porridge/congee</td>,\n",
       " <td valign=\"top\">78 ± 9</td>,\n",
       " <td valign=\"top\">Millet porridge</td>,\n",
       " <td valign=\"top\">67 ± 5</td>,\n",
       " <td valign=\"top\">Muesli</td>,\n",
       " <td valign=\"top\">57 ± 2</td>]"
      ]
     },
     "execution_count": 15,
     "metadata": {},
     "output_type": "execute_result"
    }
   ],
   "source": [
    "r_lgv1[36:52]"
   ]
  },
  {
   "cell_type": "code",
   "execution_count": 16,
   "metadata": {},
   "outputs": [],
   "source": [
    "res_bfcereals_mg =[]#for medium gi\n",
    "res_bfcereals_lg =[]#for low gi\n",
    "res_bfcereals_hg =[]#for high gi\n",
    "#remove 40,46,50\n",
    "\n",
    "index_bfcereals_mg =[48]\n",
    "res_bfcereals_mg.append(r_lgv1[48].text)\n",
    "\n",
    "index_bfcereals_lg =[42]\n",
    "res_bfcereals_lg.append(r_lgv1[42].text)\n",
    "\n",
    "\n",
    "index_bfcereals_hg =[38,44]\n",
    "\n",
    "for j in index_bfcereals_hg:\n",
    "    res_bfcereals_hg.append(r_lgv1[j].text)"
   ]
  },
  {
   "cell_type": "code",
   "execution_count": 17,
   "metadata": {},
   "outputs": [
    {
     "data": {
      "text/plain": [
       "['Millet porridge']"
      ]
     },
     "execution_count": 17,
     "metadata": {},
     "output_type": "execute_result"
    }
   ],
   "source": [
    "res_bfcereals_mg"
   ]
  },
  {
   "cell_type": "code",
   "execution_count": 18,
   "metadata": {},
   "outputs": [],
   "source": [
    "#end of breakfast cereals low,med,high gi "
   ]
  },
  {
   "cell_type": "code",
   "execution_count": 19,
   "metadata": {},
   "outputs": [],
   "source": [
    "#fruits and fruit products"
   ]
  },
  {
   "cell_type": "code",
   "execution_count": 20,
   "metadata": {},
   "outputs": [
    {
     "data": {
      "text/plain": [
       "[<td valign=\"top\"> </td>,\n",
       " <td valign=\"top\"><strong>FRUIT AND FRUIT PRODUCTS</strong></td>,\n",
       " <td valign=\"top\"> </td>,\n",
       " <td valign=\"top\">Apple, raw†</td>,\n",
       " <td valign=\"top\">36 ± 2</td>,\n",
       " <td valign=\"top\">Orange, raw†</td>,\n",
       " <td valign=\"top\">43 ± 3</td>,\n",
       " <td valign=\"top\">Banana, raw†</td>,\n",
       " <td valign=\"top\">51 ± 3</td>,\n",
       " <td valign=\"top\">Pineapple, raw</td>,\n",
       " <td valign=\"top\">59 ± 8</td>,\n",
       " <td valign=\"top\">Mango, raw†</td>,\n",
       " <td valign=\"top\">51 ± 5</td>,\n",
       " <td valign=\"top\">Watermelon, raw</td>,\n",
       " <td valign=\"top\">76 ± 4</td>,\n",
       " <td valign=\"top\">Dates, raw</td>,\n",
       " <td valign=\"top\">42 ± 4</td>,\n",
       " <td valign=\"top\">Peaches, canned†</td>,\n",
       " <td valign=\"top\">43 ± 5</td>,\n",
       " <td valign=\"top\">Strawberry jam/jelly</td>,\n",
       " <td valign=\"top\">49 ± 3</td>,\n",
       " <td valign=\"top\">Apple juice</td>,\n",
       " <td valign=\"top\">41 ± 2</td>,\n",
       " <td valign=\"top\">Orange juice</td>,\n",
       " <td valign=\"top\">50 ± 2</td>,\n",
       " <td valign=\"top\"> </td>]"
      ]
     },
     "execution_count": 20,
     "metadata": {},
     "output_type": "execute_result"
    }
   ],
   "source": [
    "r_lgv1[53:79]"
   ]
  },
  {
   "cell_type": "code",
   "execution_count": 21,
   "metadata": {},
   "outputs": [
    {
     "data": {
      "text/plain": [
       "'Potato, boiled'"
      ]
     },
     "execution_count": 21,
     "metadata": {},
     "output_type": "execute_result"
    }
   ],
   "source": [
    "r_lgv1[82].text#[:-1]"
   ]
  },
  {
   "cell_type": "code",
   "execution_count": 22,
   "metadata": {},
   "outputs": [],
   "source": [
    "res_fruitsharvard_mg =[]#for medium gi\n",
    "res_fruitsharvard_lg =[]#for low gi\n",
    "res_fruitsharvard_hg =[]#for high gi\n",
    "#skipped juices\n",
    "\n",
    "\n",
    "index_fruitsharvard_mg =[62,64]\n",
    "\n",
    "index_fruitsharvard_lg1 =[56,58,60,70]#needs splicing\n",
    "\n",
    "index_fruitsharvard_lg2=[68,72]\n",
    "\n",
    "index_fruitsharvard_hg =[66]\n",
    "res_fruitsharvard_hg.append(r_lgv1[66].text)\n",
    "\n",
    "\n",
    "for i in index_fruitsharvard_mg:\n",
    "    if i == 62:\n",
    "        res_fruitsharvard_mg.append(r_lgv1[i].text)\n",
    "    if i == 64:\n",
    "        res_fruitsharvard_mg.append(r_lgv1[i].text[:-1])\n",
    "        \n",
    "    \n",
    "\n",
    "for j in index_fruitsharvard_lg1:\n",
    "    res_fruitsharvard_lg.append(r_lgv1[j].text[:-1])\n",
    "    \n",
    "for k in index_fruitsharvard_lg2:\n",
    "    res_fruitsharvard_lg.append(r_lgv1[k].text)\n",
    "    \n",
    "    "
   ]
  },
  {
   "cell_type": "code",
   "execution_count": 23,
   "metadata": {},
   "outputs": [
    {
     "data": {
      "text/plain": [
       "['Pineapple, raw', 'Mango, raw']"
      ]
     },
     "execution_count": 23,
     "metadata": {},
     "output_type": "execute_result"
    }
   ],
   "source": [
    "res_fruitsharvard_mg"
   ]
  },
  {
   "cell_type": "code",
   "execution_count": 24,
   "metadata": {},
   "outputs": [],
   "source": [
    "#end of fruits harvard low,med,high gi\n",
    "#start of vegetables"
   ]
  },
  {
   "cell_type": "code",
   "execution_count": 25,
   "metadata": {},
   "outputs": [
    {
     "data": {
      "text/plain": [
       "[<td valign=\"top\"><strong>VEGETABLES</strong></td>,\n",
       " <td valign=\"top\"> </td>,\n",
       " <td valign=\"top\">Potato, boiled</td>,\n",
       " <td valign=\"top\">78 ± 4</td>,\n",
       " <td valign=\"top\">Potato, instant mash</td>,\n",
       " <td valign=\"top\">87 ± 3</td>,\n",
       " <td valign=\"top\">Potato, french fries</td>,\n",
       " <td valign=\"top\">63 ± 5</td>,\n",
       " <td valign=\"top\">Carrots, boiled</td>,\n",
       " <td valign=\"top\">39 ± 4</td>,\n",
       " <td valign=\"top\">Sweet potato, boiled</td>,\n",
       " <td valign=\"top\">63 ± 6</td>,\n",
       " <td valign=\"top\">Pumpkin, boiled</td>,\n",
       " <td valign=\"top\">64 ± 7</td>,\n",
       " <td valign=\"top\">Plantain/green banana</td>,\n",
       " <td valign=\"top\">55 ± 6</td>,\n",
       " <td valign=\"top\">Taro, boiled</td>,\n",
       " <td valign=\"top\">53 ± 2</td>,\n",
       " <td valign=\"top\">Vegetable soup</td>,\n",
       " <td valign=\"top\">48 ± 5</td>]"
      ]
     },
     "execution_count": 25,
     "metadata": {},
     "output_type": "execute_result"
    }
   ],
   "source": [
    "r_lgv1[80:100]"
   ]
  },
  {
   "cell_type": "code",
   "execution_count": 26,
   "metadata": {},
   "outputs": [],
   "source": [
    "res_vegeharvard_mg =[]#for medium gi\n",
    "res_vegeharvard_lg =[]#for low gi\n",
    "res_vegeharvard_hg =[]#for high gi\n",
    "#skipped vegetable soups,potatot fries and mash\n",
    "\n",
    "\n",
    "index_vegeharvard_mg =[90,92,94]\n",
    "\n",
    "index_vegeharvard_lg =[88]\n",
    "res_vegeharvard_lg.append(r_lgv1[88].text)\n",
    "\n",
    "\n",
    "index_vegeharvard_hg =[82]\n",
    "res_vegeharvard_hg.append(r_lgv1[82].text)\n",
    "\n",
    "\n",
    "for i in index_vegeharvard_mg:\n",
    "    res_vegeharvard_mg.append(r_lgv1[i].text)\n",
    "   \n",
    "      \n",
    "\n",
    "    \n",
    "\n",
    "    "
   ]
  },
  {
   "cell_type": "code",
   "execution_count": 27,
   "metadata": {},
   "outputs": [
    {
     "data": {
      "text/plain": [
       "['Carrots, boiled']"
      ]
     },
     "execution_count": 27,
     "metadata": {},
     "output_type": "execute_result"
    }
   ],
   "source": [
    "res_vegeharvard_lg"
   ]
  },
  {
   "cell_type": "code",
   "execution_count": 28,
   "metadata": {},
   "outputs": [],
   "source": [
    "#end of vegetables harvard low,med,high gi\n",
    "#start of dairy"
   ]
  },
  {
   "cell_type": "code",
   "execution_count": 29,
   "metadata": {},
   "outputs": [
    {
     "data": {
      "text/plain": [
       "[<td valign=\"top\"><strong>DAIRY PRODUCTS AND ALTERNATIVES</strong></td>,\n",
       " <td valign=\"top\"> </td>,\n",
       " <td valign=\"top\">Milk, full fat</td>,\n",
       " <td valign=\"top\">39 ± 3</td>,\n",
       " <td valign=\"top\">Milk, skim</td>,\n",
       " <td valign=\"top\">37 ± 4</td>,\n",
       " <td valign=\"top\">Ice cream</td>,\n",
       " <td valign=\"top\">51 ± 3</td>,\n",
       " <td valign=\"top\">Yogurt, fruit</td>,\n",
       " <td valign=\"top\">41 ± 2</td>,\n",
       " <td valign=\"top\">Soy milk</td>,\n",
       " <td valign=\"top\">34 ± 4</td>,\n",
       " <td valign=\"top\">Rice milk</td>,\n",
       " <td valign=\"top\">86 ± 7</td>]"
      ]
     },
     "execution_count": 29,
     "metadata": {},
     "output_type": "execute_result"
    }
   ],
   "source": [
    "r_lgv1[102:116]"
   ]
  },
  {
   "cell_type": "code",
   "execution_count": 30,
   "metadata": {},
   "outputs": [
    {
     "data": {
      "text/plain": [
       "'Milk, skim'"
      ]
     },
     "execution_count": 30,
     "metadata": {},
     "output_type": "execute_result"
    }
   ],
   "source": [
    "r_lgv1[106].text"
   ]
  },
  {
   "cell_type": "code",
   "execution_count": 31,
   "metadata": {},
   "outputs": [],
   "source": [
    "res_dairyharvard_mg =[]#for medium gi\n",
    "res_dairyharvard_lg =[]#for low gi\n",
    "res_dairyharvard_hg =[]#for high gi\n",
    "#skipped milk full fat,rice milk\n",
    "\n",
    "\n",
    "index_dairyharvard_mg =[108]\n",
    "res_dairyharvard_mg.append(r_lgv1[108].text)\n",
    "\n",
    "index_dairyharvard_lg =[106,110,112]\n",
    "\n",
    "\n",
    "\n",
    "index_dairyharvard_hg =[]\n",
    "#res_dairyharvard_hg.append(r_lgv1[].text)\n",
    "\n",
    "\n",
    "for i in index_dairyharvard_lg:\n",
    "    res_dairyharvard_lg.append(r_lgv1[i].text)\n",
    "   "
   ]
  },
  {
   "cell_type": "code",
   "execution_count": 32,
   "metadata": {},
   "outputs": [
    {
     "data": {
      "text/plain": [
       "['Milk, skim', 'Yogurt, fruit', 'Soy milk']"
      ]
     },
     "execution_count": 32,
     "metadata": {},
     "output_type": "execute_result"
    }
   ],
   "source": [
    "res_dairyharvard_lg"
   ]
  },
  {
   "cell_type": "code",
   "execution_count": 33,
   "metadata": {},
   "outputs": [],
   "source": [
    "#end of dairy harvard low,med,high gi\n",
    "#start of legumes"
   ]
  },
  {
   "cell_type": "code",
   "execution_count": 34,
   "metadata": {},
   "outputs": [
    {
     "data": {
      "text/plain": [
       "[<td valign=\"top\"><strong>LEGUMES</strong></td>,\n",
       " <td valign=\"top\"> </td>,\n",
       " <td valign=\"top\">Chickpeas</td>,\n",
       " <td valign=\"top\">28 ± 9</td>,\n",
       " <td valign=\"top\">Kidney beans</td>,\n",
       " <td valign=\"top\">24 ± 4</td>,\n",
       " <td valign=\"top\">Lentils</td>,\n",
       " <td valign=\"top\">32 ± 5</td>,\n",
       " <td valign=\"top\">Soya beans</td>,\n",
       " <td valign=\"top\">16 ± 1</td>,\n",
       " <td valign=\"top\"> </td>]"
      ]
     },
     "execution_count": 34,
     "metadata": {},
     "output_type": "execute_result"
    }
   ],
   "source": [
    "r_lgv1[118:129]"
   ]
  },
  {
   "cell_type": "code",
   "execution_count": 35,
   "metadata": {},
   "outputs": [
    {
     "data": {
      "text/plain": [
       "'Chickpeas'"
      ]
     },
     "execution_count": 35,
     "metadata": {},
     "output_type": "execute_result"
    }
   ],
   "source": [
    "r_lgv1[120].text"
   ]
  },
  {
   "cell_type": "code",
   "execution_count": 36,
   "metadata": {},
   "outputs": [],
   "source": [
    "res_legumesharvard_mg =[]#for medium gi\n",
    "res_legumesharvard_lg =[]#for low gi\n",
    "res_legumesharvard_hg =[]#for high gi\n",
    "#skipped\n",
    "\n",
    "\n",
    "index_legumesharvard_lg =[120,122,124,126]\n",
    "\n",
    "\n",
    "for i in index_legumesharvard_lg:\n",
    "    res_legumesharvard_lg.append(r_lgv1[i].text)\n",
    "   "
   ]
  },
  {
   "cell_type": "code",
   "execution_count": 37,
   "metadata": {},
   "outputs": [
    {
     "data": {
      "text/plain": [
       "['Chickpeas', 'Kidney beans', 'Lentils', 'Soya beans']"
      ]
     },
     "execution_count": 37,
     "metadata": {},
     "output_type": "execute_result"
    }
   ],
   "source": [
    "res_legumesharvard_lg"
   ]
  },
  {
   "cell_type": "code",
   "execution_count": 38,
   "metadata": {},
   "outputs": [],
   "source": [
    "#end of legumes harvard low,med,high gi\n"
   ]
  },
  {
   "cell_type": "code",
   "execution_count": 39,
   "metadata": {},
   "outputs": [],
   "source": [
    "#building the dataset"
   ]
  },
  {
   "cell_type": "code",
   "execution_count": 40,
   "metadata": {},
   "outputs": [],
   "source": [
    "#low gi first"
   ]
  },
  {
   "cell_type": "code",
   "execution_count": 41,
   "metadata": {},
   "outputs": [],
   "source": [
    "res_legumesharvard_lg.append(None)\n",
    "res_legumesharvard_lg.append(None)"
   ]
  },
  {
   "cell_type": "code",
   "execution_count": 42,
   "metadata": {},
   "outputs": [],
   "source": [
    "\n",
    "res_dairyharvard_lg\n",
    "ap=3\n",
    "while ap!=0:\n",
    "    res_dairyharvard_lg.append(None)\n",
    "    ap = ap -1"
   ]
  },
  {
   "cell_type": "code",
   "execution_count": 43,
   "metadata": {},
   "outputs": [],
   "source": [
    "res_vegeharvard_lg\n",
    "ap=5\n",
    "while ap!=0:\n",
    "    res_vegeharvard_lg.append(None)\n",
    "    ap = ap -1"
   ]
  },
  {
   "cell_type": "code",
   "execution_count": 44,
   "metadata": {},
   "outputs": [
    {
     "data": {
      "text/plain": [
       "['Chickpeas', 'Kidney beans', 'Lentils', 'Soya beans', None, None]"
      ]
     },
     "execution_count": 44,
     "metadata": {},
     "output_type": "execute_result"
    }
   ],
   "source": [
    "res_legumesharvard_lg"
   ]
  },
  {
   "cell_type": "code",
   "execution_count": 45,
   "metadata": {},
   "outputs": [],
   "source": [
    "\n",
    "res_bfcereals_lg\n",
    "ap=5\n",
    "while ap!=0:\n",
    "    res_bfcereals_lg.append(None)\n",
    "    ap = ap -1"
   ]
  },
  {
   "cell_type": "code",
   "execution_count": 46,
   "metadata": {},
   "outputs": [],
   "source": [
    "res_highcarbo_lg.append(None)\n",
    "res_highcarbo_lg.append(None)"
   ]
  },
  {
   "cell_type": "code",
   "execution_count": 47,
   "metadata": {},
   "outputs": [],
   "source": [
    "#adding poultry\n",
    "res_poultry_lg =['fish','chicken','lamb','eggs','pork',None]\n",
    "res_poultry_mg = [None,None,None]\n",
    "res_poultry_hg = [None,None]"
   ]
  },
  {
   "cell_type": "code",
   "execution_count": null,
   "metadata": {},
   "outputs": [],
   "source": []
  },
  {
   "cell_type": "code",
   "execution_count": null,
   "metadata": {},
   "outputs": [],
   "source": []
  },
  {
   "cell_type": "code",
   "execution_count": 48,
   "metadata": {},
   "outputs": [],
   "source": [
    "records = []\n",
    "index_lg=[0,1,2,3,4,5]\n",
    "val = 'low'\n",
    "for i in index_lg:  \n",
    "    veg = res_vegeharvard_lg[i]\n",
    "    fru = res_fruitsharvard_lg[i]\n",
    "    dair = res_dairyharvard_lg[i]\n",
    "    breakf = res_bfcereals_lg[i]\n",
    "    poul = res_poultry_lg[i]\n",
    "    records.append((val,veg,fru,dair,breakf,poul))"
   ]
  },
  {
   "cell_type": "code",
   "execution_count": 49,
   "metadata": {
    "scrolled": true
   },
   "outputs": [
    {
     "data": {
      "text/plain": [
       "[('low',\n",
       "  'Carrots, boiled',\n",
       "  'Apple, raw',\n",
       "  'Milk, skim',\n",
       "  'Porridge, rolled oats',\n",
       "  'fish'),\n",
       " ('low', None, 'Orange, raw', 'Yogurt, fruit', None, 'chicken'),\n",
       " ('low', None, 'Banana, raw', 'Soy milk', None, 'lamb'),\n",
       " ('low', None, 'Peaches, canned', None, None, 'eggs'),\n",
       " ('low', None, 'Dates, raw', None, None, 'pork'),\n",
       " ('low', None, 'Strawberry jam/jelly', None, None, None)]"
      ]
     },
     "execution_count": 49,
     "metadata": {},
     "output_type": "execute_result"
    }
   ],
   "source": [
    "records"
   ]
  },
  {
   "cell_type": "code",
   "execution_count": 50,
   "metadata": {},
   "outputs": [],
   "source": [
    "#medium gi"
   ]
  },
  {
   "cell_type": "code",
   "execution_count": 51,
   "metadata": {},
   "outputs": [
    {
     "data": {
      "text/plain": [
       "['Sweet potato, boiled', 'Pumpkin, boiled', 'Plantain/green banana']"
      ]
     },
     "execution_count": 51,
     "metadata": {},
     "output_type": "execute_result"
    }
   ],
   "source": [
    "res_vegeharvard_mg"
   ]
  },
  {
   "cell_type": "code",
   "execution_count": 52,
   "metadata": {},
   "outputs": [],
   "source": [
    "res_fruitsharvard_mg.append(None)"
   ]
  },
  {
   "cell_type": "code",
   "execution_count": 53,
   "metadata": {},
   "outputs": [
    {
     "data": {
      "text/plain": [
       "['Ice cream']"
      ]
     },
     "execution_count": 53,
     "metadata": {},
     "output_type": "execute_result"
    }
   ],
   "source": [
    "res_dairyharvard_mg"
   ]
  },
  {
   "cell_type": "code",
   "execution_count": 54,
   "metadata": {},
   "outputs": [
    {
     "data": {
      "text/plain": [
       "['Millet porridge']"
      ]
     },
     "execution_count": 54,
     "metadata": {},
     "output_type": "execute_result"
    }
   ],
   "source": [
    "res_bfcereals_mg"
   ]
  },
  {
   "cell_type": "code",
   "execution_count": 55,
   "metadata": {},
   "outputs": [],
   "source": [
    "ap=2\n",
    "while ap!=0:\n",
    "    res_bfcereals_mg.append(None)\n",
    "    res_dairyharvard_mg.append(None)\n",
    "    ap = ap -1"
   ]
  },
  {
   "cell_type": "code",
   "execution_count": 56,
   "metadata": {},
   "outputs": [
    {
     "data": {
      "text/plain": [
       "['Pineapple, raw', 'Mango, raw', None]"
      ]
     },
     "execution_count": 56,
     "metadata": {},
     "output_type": "execute_result"
    }
   ],
   "source": [
    "res_fruitsharvard_mg"
   ]
  },
  {
   "cell_type": "code",
   "execution_count": 57,
   "metadata": {},
   "outputs": [],
   "source": [
    "index_mg=[0,1,2]\n",
    "val = 'medium'\n",
    "for i in index_mg:  \n",
    "    veg = res_vegeharvard_mg[i]\n",
    "    fru = res_fruitsharvard_mg[i]\n",
    "    dair = res_dairyharvard_mg[i]\n",
    "    breakf = res_bfcereals_mg[i]\n",
    "    poul = res_poultry_mg[i]\n",
    "    records.append((val,veg,fru,dair,breakf,poul))"
   ]
  },
  {
   "cell_type": "code",
   "execution_count": 58,
   "metadata": {},
   "outputs": [
    {
     "data": {
      "text/plain": [
       "[('low',\n",
       "  'Carrots, boiled',\n",
       "  'Apple, raw',\n",
       "  'Milk, skim',\n",
       "  'Porridge, rolled oats',\n",
       "  'fish'),\n",
       " ('low', None, 'Orange, raw', 'Yogurt, fruit', None, 'chicken'),\n",
       " ('low', None, 'Banana, raw', 'Soy milk', None, 'lamb'),\n",
       " ('low', None, 'Peaches, canned', None, None, 'eggs'),\n",
       " ('low', None, 'Dates, raw', None, None, 'pork'),\n",
       " ('low', None, 'Strawberry jam/jelly', None, None, None),\n",
       " ('medium',\n",
       "  'Sweet potato, boiled',\n",
       "  'Pineapple, raw',\n",
       "  'Ice cream',\n",
       "  'Millet porridge',\n",
       "  None),\n",
       " ('medium', 'Pumpkin, boiled', 'Mango, raw', None, None, None),\n",
       " ('medium', 'Plantain/green banana', None, None, None, None)]"
      ]
     },
     "execution_count": 58,
     "metadata": {},
     "output_type": "execute_result"
    }
   ],
   "source": [
    "records"
   ]
  },
  {
   "cell_type": "code",
   "execution_count": 59,
   "metadata": {},
   "outputs": [],
   "source": [
    "#high gi"
   ]
  },
  {
   "cell_type": "code",
   "execution_count": 60,
   "metadata": {},
   "outputs": [],
   "source": [
    "res_vegeharvard_hg.append(None)"
   ]
  },
  {
   "cell_type": "code",
   "execution_count": 61,
   "metadata": {},
   "outputs": [],
   "source": [
    "res_fruitsharvard_hg.append(None)"
   ]
  },
  {
   "cell_type": "code",
   "execution_count": 62,
   "metadata": {},
   "outputs": [],
   "source": [
    "res_dairyharvard_hg.append(None)\n",
    "res_dairyharvard_hg.append(None)"
   ]
  },
  {
   "cell_type": "code",
   "execution_count": 63,
   "metadata": {},
   "outputs": [
    {
     "data": {
      "text/plain": [
       "['Cornflakes', 'Instant oat porridge']"
      ]
     },
     "execution_count": 63,
     "metadata": {},
     "output_type": "execute_result"
    }
   ],
   "source": [
    "res_bfcereals_hg"
   ]
  },
  {
   "cell_type": "code",
   "execution_count": 64,
   "metadata": {},
   "outputs": [],
   "source": [
    "index_hg=[0,1]\n",
    "val = 'high'\n",
    "for i in index_hg:  \n",
    "    veg = res_vegeharvard_hg[i]\n",
    "    fru = res_fruitsharvard_hg[i]\n",
    "    dair = res_dairyharvard_hg[i]\n",
    "    breakf = res_bfcereals_hg[i]\n",
    "    poul = res_poultry_hg[i]\n",
    "    records.append((val,veg,fru,dair,breakf,poul))"
   ]
  },
  {
   "cell_type": "code",
   "execution_count": 65,
   "metadata": {},
   "outputs": [
    {
     "data": {
      "text/plain": [
       "[('low',\n",
       "  'Carrots, boiled',\n",
       "  'Apple, raw',\n",
       "  'Milk, skim',\n",
       "  'Porridge, rolled oats',\n",
       "  'fish'),\n",
       " ('low', None, 'Orange, raw', 'Yogurt, fruit', None, 'chicken'),\n",
       " ('low', None, 'Banana, raw', 'Soy milk', None, 'lamb'),\n",
       " ('low', None, 'Peaches, canned', None, None, 'eggs'),\n",
       " ('low', None, 'Dates, raw', None, None, 'pork'),\n",
       " ('low', None, 'Strawberry jam/jelly', None, None, None),\n",
       " ('medium',\n",
       "  'Sweet potato, boiled',\n",
       "  'Pineapple, raw',\n",
       "  'Ice cream',\n",
       "  'Millet porridge',\n",
       "  None),\n",
       " ('medium', 'Pumpkin, boiled', 'Mango, raw', None, None, None),\n",
       " ('medium', 'Plantain/green banana', None, None, None, None),\n",
       " ('high', 'Potato, boiled', 'Watermelon, raw', None, 'Cornflakes', None),\n",
       " ('high', None, None, None, 'Instant oat porridge', None)]"
      ]
     },
     "execution_count": 65,
     "metadata": {},
     "output_type": "execute_result"
    }
   ],
   "source": [
    "records"
   ]
  },
  {
   "cell_type": "code",
   "execution_count": 66,
   "metadata": {},
   "outputs": [
    {
     "data": {
      "text/plain": [
       "11"
      ]
     },
     "execution_count": 66,
     "metadata": {},
     "output_type": "execute_result"
    }
   ],
   "source": [
    "len(records)\n",
    "\n"
   ]
  },
  {
   "cell_type": "code",
   "execution_count": null,
   "metadata": {},
   "outputs": [],
   "source": []
  },
  {
   "cell_type": "code",
   "execution_count": null,
   "metadata": {},
   "outputs": [],
   "source": []
  },
  {
   "cell_type": "code",
   "execution_count": null,
   "metadata": {},
   "outputs": [],
   "source": []
  },
  {
   "cell_type": "code",
   "execution_count": 67,
   "metadata": {},
   "outputs": [],
   "source": [
    "import pandas as pd  \n",
    "df = pd.DataFrame(records, columns=['gi', 'vegetables', 'fruits', 'dairy','breakfast_cereals','poultry'])  "
   ]
  },
  {
   "cell_type": "code",
   "execution_count": null,
   "metadata": {},
   "outputs": [],
   "source": []
  },
  {
   "cell_type": "code",
   "execution_count": null,
   "metadata": {},
   "outputs": [],
   "source": []
  },
  {
   "cell_type": "code",
   "execution_count": 68,
   "metadata": {},
   "outputs": [
    {
     "data": {
      "text/html": [
       "<div>\n",
       "<style scoped>\n",
       "    .dataframe tbody tr th:only-of-type {\n",
       "        vertical-align: middle;\n",
       "    }\n",
       "\n",
       "    .dataframe tbody tr th {\n",
       "        vertical-align: top;\n",
       "    }\n",
       "\n",
       "    .dataframe thead th {\n",
       "        text-align: right;\n",
       "    }\n",
       "</style>\n",
       "<table border=\"1\" class=\"dataframe\">\n",
       "  <thead>\n",
       "    <tr style=\"text-align: right;\">\n",
       "      <th></th>\n",
       "      <th>gi</th>\n",
       "      <th>vegetables</th>\n",
       "      <th>fruits</th>\n",
       "      <th>dairy</th>\n",
       "      <th>breakfast_cereals</th>\n",
       "      <th>poultry</th>\n",
       "    </tr>\n",
       "  </thead>\n",
       "  <tbody>\n",
       "    <tr>\n",
       "      <th>0</th>\n",
       "      <td>low</td>\n",
       "      <td>Carrots, boiled</td>\n",
       "      <td>Apple, raw</td>\n",
       "      <td>Milk, skim</td>\n",
       "      <td>Porridge, rolled oats</td>\n",
       "      <td>fish</td>\n",
       "    </tr>\n",
       "    <tr>\n",
       "      <th>1</th>\n",
       "      <td>low</td>\n",
       "      <td>None</td>\n",
       "      <td>Orange, raw</td>\n",
       "      <td>Yogurt, fruit</td>\n",
       "      <td>None</td>\n",
       "      <td>chicken</td>\n",
       "    </tr>\n",
       "    <tr>\n",
       "      <th>2</th>\n",
       "      <td>low</td>\n",
       "      <td>None</td>\n",
       "      <td>Banana, raw</td>\n",
       "      <td>Soy milk</td>\n",
       "      <td>None</td>\n",
       "      <td>lamb</td>\n",
       "    </tr>\n",
       "    <tr>\n",
       "      <th>3</th>\n",
       "      <td>low</td>\n",
       "      <td>None</td>\n",
       "      <td>Peaches, canned</td>\n",
       "      <td>None</td>\n",
       "      <td>None</td>\n",
       "      <td>eggs</td>\n",
       "    </tr>\n",
       "    <tr>\n",
       "      <th>4</th>\n",
       "      <td>low</td>\n",
       "      <td>None</td>\n",
       "      <td>Dates, raw</td>\n",
       "      <td>None</td>\n",
       "      <td>None</td>\n",
       "      <td>pork</td>\n",
       "    </tr>\n",
       "  </tbody>\n",
       "</table>\n",
       "</div>"
      ],
      "text/plain": [
       "    gi       vegetables           fruits          dairy  \\\n",
       "0  low  Carrots, boiled       Apple, raw     Milk, skim   \n",
       "1  low             None      Orange, raw  Yogurt, fruit   \n",
       "2  low             None      Banana, raw       Soy milk   \n",
       "3  low             None  Peaches, canned           None   \n",
       "4  low             None       Dates, raw           None   \n",
       "\n",
       "       breakfast_cereals  poultry  \n",
       "0  Porridge, rolled oats     fish  \n",
       "1                   None  chicken  \n",
       "2                   None     lamb  \n",
       "3                   None     eggs  \n",
       "4                   None     pork  "
      ]
     },
     "execution_count": 68,
     "metadata": {},
     "output_type": "execute_result"
    }
   ],
   "source": [
    "df.head()"
   ]
  },
  {
   "cell_type": "code",
   "execution_count": 69,
   "metadata": {},
   "outputs": [
    {
     "data": {
      "text/html": [
       "<div>\n",
       "<style scoped>\n",
       "    .dataframe tbody tr th:only-of-type {\n",
       "        vertical-align: middle;\n",
       "    }\n",
       "\n",
       "    .dataframe tbody tr th {\n",
       "        vertical-align: top;\n",
       "    }\n",
       "\n",
       "    .dataframe thead th {\n",
       "        text-align: right;\n",
       "    }\n",
       "</style>\n",
       "<table border=\"1\" class=\"dataframe\">\n",
       "  <thead>\n",
       "    <tr style=\"text-align: right;\">\n",
       "      <th></th>\n",
       "      <th>gi</th>\n",
       "      <th>vegetables</th>\n",
       "      <th>fruits</th>\n",
       "      <th>dairy</th>\n",
       "      <th>breakfast_cereals</th>\n",
       "      <th>poultry</th>\n",
       "    </tr>\n",
       "  </thead>\n",
       "  <tbody>\n",
       "    <tr>\n",
       "      <th>6</th>\n",
       "      <td>medium</td>\n",
       "      <td>Sweet potato, boiled</td>\n",
       "      <td>Pineapple, raw</td>\n",
       "      <td>Ice cream</td>\n",
       "      <td>Millet porridge</td>\n",
       "      <td>None</td>\n",
       "    </tr>\n",
       "    <tr>\n",
       "      <th>7</th>\n",
       "      <td>medium</td>\n",
       "      <td>Pumpkin, boiled</td>\n",
       "      <td>Mango, raw</td>\n",
       "      <td>None</td>\n",
       "      <td>None</td>\n",
       "      <td>None</td>\n",
       "    </tr>\n",
       "    <tr>\n",
       "      <th>8</th>\n",
       "      <td>medium</td>\n",
       "      <td>Plantain/green banana</td>\n",
       "      <td>None</td>\n",
       "      <td>None</td>\n",
       "      <td>None</td>\n",
       "      <td>None</td>\n",
       "    </tr>\n",
       "    <tr>\n",
       "      <th>9</th>\n",
       "      <td>high</td>\n",
       "      <td>Potato, boiled</td>\n",
       "      <td>Watermelon, raw</td>\n",
       "      <td>None</td>\n",
       "      <td>Cornflakes</td>\n",
       "      <td>None</td>\n",
       "    </tr>\n",
       "    <tr>\n",
       "      <th>10</th>\n",
       "      <td>high</td>\n",
       "      <td>None</td>\n",
       "      <td>None</td>\n",
       "      <td>None</td>\n",
       "      <td>Instant oat porridge</td>\n",
       "      <td>None</td>\n",
       "    </tr>\n",
       "  </tbody>\n",
       "</table>\n",
       "</div>"
      ],
      "text/plain": [
       "        gi             vegetables           fruits      dairy  \\\n",
       "6   medium   Sweet potato, boiled   Pineapple, raw  Ice cream   \n",
       "7   medium        Pumpkin, boiled       Mango, raw       None   \n",
       "8   medium  Plantain/green banana             None       None   \n",
       "9     high         Potato, boiled  Watermelon, raw       None   \n",
       "10    high                   None             None       None   \n",
       "\n",
       "       breakfast_cereals poultry  \n",
       "6        Millet porridge    None  \n",
       "7                   None    None  \n",
       "8                   None    None  \n",
       "9             Cornflakes    None  \n",
       "10  Instant oat porridge    None  "
      ]
     },
     "execution_count": 69,
     "metadata": {},
     "output_type": "execute_result"
    }
   ],
   "source": [
    "df.tail()"
   ]
  },
  {
   "cell_type": "code",
   "execution_count": 70,
   "metadata": {},
   "outputs": [],
   "source": [
    "#just has 14 records as of now"
   ]
  },
  {
   "cell_type": "code",
   "execution_count": null,
   "metadata": {},
   "outputs": [],
   "source": []
  },
  {
   "cell_type": "code",
   "execution_count": null,
   "metadata": {},
   "outputs": [],
   "source": []
  }
 ],
 "metadata": {
  "kernelspec": {
   "display_name": "Python 3",
   "language": "python",
   "name": "python3"
  },
  "language_info": {
   "codemirror_mode": {
    "name": "ipython",
    "version": 3
   },
   "file_extension": ".py",
   "mimetype": "text/x-python",
   "name": "python",
   "nbconvert_exporter": "python",
   "pygments_lexer": "ipython3",
   "version": "3.6.4"
  }
 },
 "nbformat": 4,
 "nbformat_minor": 2
}
