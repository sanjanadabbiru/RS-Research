{
 "cells": [
  {
   "cell_type": "code",
   "execution_count": 1,
   "metadata": {},
   "outputs": [],
   "source": [
    "import requests\n",
    "r_nuts= requests.get(\"https://www.medicalnewstoday.com/articles/324141#almonds\")"
   ]
  },
  {
   "cell_type": "code",
   "execution_count": 2,
   "metadata": {
    "scrolled": false
   },
   "outputs": [
    {
     "name": "stdout",
     "output_type": "stream",
     "text": [
      "<!DOCTYPE html><html lang=\"en\"><head>\n",
      "<link rel=preload href=\"https://assets.medicalnewstoday.com/_next/vendor-f5baf-legacy.js\" as=script crossorigin=anonymous><link rel=preload href=\"https://assets.medicalnewstoday.com/_next/lib-2dd72-legacy.js\" as=script crossorigin=anonymous><link rel=preload href=\"https://assets.medicalnewstoday.com/_next/b451dca2-41ac-499b-9453-ea5291eb7197/mnt/pages/tabbed.js-legacy.js\" as=script crossorigin=anonymous>\n",
      "<title>The 5 best nuts for diabetes</title><link rel=\"canonical\" href=\"https://www.medicalnewstoday.com/articles/324141\"/><meta name=\"description\" content\n"
     ]
    }
   ],
   "source": [
    "print(r_nuts.text[0:600])"
   ]
  },
  {
   "cell_type": "code",
   "execution_count": 3,
   "metadata": {},
   "outputs": [],
   "source": [
    "from bs4 import BeautifulSoup\n",
    "soup_nuts=BeautifulSoup(r_nuts.text,'html.parser')"
   ]
  },
  {
   "cell_type": "code",
   "execution_count": 4,
   "metadata": {},
   "outputs": [],
   "source": [
    "res_nuts = soup_nuts.find_all('h2')"
   ]
  },
  {
   "cell_type": "code",
   "execution_count": 5,
   "metadata": {},
   "outputs": [
    {
     "data": {
      "text/plain": [
       "8"
      ]
     },
     "execution_count": 5,
     "metadata": {},
     "output_type": "execute_result"
    }
   ],
   "source": [
    "len(res_nuts)"
   ]
  },
  {
   "cell_type": "code",
   "execution_count": 6,
   "metadata": {},
   "outputs": [
    {
     "data": {
      "text/plain": [
       "[<h2><div><a name=\"why-are-nuts-useful-for-diabetes\">Why are nuts useful for diabetes?</a></div></h2>,\n",
       " <h2><div><a name=\"almonds\">Almonds</a></div></h2>,\n",
       " <h2><div><a name=\"walnuts\">Walnuts</a></div></h2>,\n",
       " <h2><div><a name=\"cashews\">Cashews</a></div></h2>,\n",
       " <h2><div><a name=\"pistachios\">Pistachios</a></div></h2>,\n",
       " <h2><div><a name=\"peanuts\">Peanuts</a></div></h2>,\n",
       " <h2><div><a name=\"takeaway\">Takeaway</a></div></h2>,\n",
       " <h2 class=\"css-1nnldnv\">Latest news</h2>]"
      ]
     },
     "execution_count": 6,
     "metadata": {},
     "output_type": "execute_result"
    }
   ],
   "source": [
    "res_nuts"
   ]
  },
  {
   "cell_type": "code",
   "execution_count": 15,
   "metadata": {},
   "outputs": [
    {
     "data": {
      "text/plain": [
       "'Almonds'"
      ]
     },
     "execution_count": 15,
     "metadata": {},
     "output_type": "execute_result"
    }
   ],
   "source": [
    "res_nuts[1].find('a').text"
   ]
  },
  {
   "cell_type": "code",
   "execution_count": 16,
   "metadata": {},
   "outputs": [],
   "source": [
    "res_nuts_final = []\n",
    "indices = [1,2,3,4,5]\n",
    "\n",
    "for index in indices:\n",
    "    res_nuts_final.append(res_nuts[index].find('a').text)"
   ]
  },
  {
   "cell_type": "code",
   "execution_count": 17,
   "metadata": {},
   "outputs": [
    {
     "data": {
      "text/plain": [
       "['Almonds', 'Walnuts', 'Cashews', 'Pistachios', 'Peanuts']"
      ]
     },
     "execution_count": 17,
     "metadata": {},
     "output_type": "execute_result"
    }
   ],
   "source": [
    "res_nuts_final"
   ]
  },
  {
   "cell_type": "code",
   "execution_count": null,
   "metadata": {},
   "outputs": [],
   "source": []
  }
 ],
 "metadata": {
  "kernelspec": {
   "display_name": "Python 3",
   "language": "python",
   "name": "python3"
  },
  "language_info": {
   "codemirror_mode": {
    "name": "ipython",
    "version": 3
   },
   "file_extension": ".py",
   "mimetype": "text/x-python",
   "name": "python",
   "nbconvert_exporter": "python",
   "pygments_lexer": "ipython3",
   "version": "3.6.4"
  }
 },
 "nbformat": 4,
 "nbformat_minor": 2
}
