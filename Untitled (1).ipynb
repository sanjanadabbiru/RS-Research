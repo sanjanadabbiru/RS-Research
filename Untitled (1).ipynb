{
 "cells": [
  {
   "cell_type": "code",
   "execution_count": 137,
   "metadata": {},
   "outputs": [],
   "source": [
    "import requests\n",
    "r= requests.get(\"https://www.medicalnewstoday.com/articles/317225#best-vegetables\")\n",
    "r1=requests.get(\"https://www.healthline.com/health/diabetes/low-glycemic-fruits-for-diabetes\")\n",
    "r2=requests.get(\"https://www.medicalnewstoday.com/articles/324141#almonds\")\n",
    "r3=requests.get(\"https://www.everydayhealth.com/type-2-diabetes/diet/guide-eating-dairy-with-diabetes/\")\n",
    "r4=requests.get(\"https://food.ndtv.com/health/fibre-rich-foods-for-diabetes-5-foods-that-manage-blood-sugar-levels-1881690\")"
   ]
  },
  {
   "cell_type": "code",
   "execution_count": 138,
   "metadata": {
    "scrolled": true
   },
   "outputs": [
    {
     "name": "stdout",
     "output_type": "stream",
     "text": [
      "<!DOCTYPE html><html lang=\"en\"><head>\n",
      "<link rel=preload href=\"https://assets.medicalnewstoday.com/_next/vendor-02c5d-legacy.js\" as=script crossorigin=anonymous><link rel=preload href=\"https://assets.medicalnewstoday.com/_next/lib-44554-legacy.js\" as=script crossorigin=anonymous><link rel=preload href=\"https://assets.medicalnewstoday.com/_next/b451dca2-41ac-499b-9453-ea5291eb7197/hl/pages/tabbed.js-legacy.js\" as=script crossorigin=anonymous>\n",
      "<title>10 Low-Glycemic Fruits for Diabetes</title><link\n"
     ]
    }
   ],
   "source": [
    "print(r1.text[0:500])"
   ]
  },
  {
   "cell_type": "code",
   "execution_count": 140,
   "metadata": {},
   "outputs": [],
   "source": [
    "from bs4 import BeautifulSoup\n",
    "soup=BeautifulSoup(r.text,'html.parser')\n",
    "soup1=BeautifulSoup(r1.text,'html.parser')\n",
    "soup2=BeautifulSoup(r2.text,'html.parser')\n",
    "soup3=BeautifulSoup(r3.text,'html.parser')\n",
    "soup4=BeautifulSoup(r4.text,'html.parser')"
   ]
  },
  {
   "cell_type": "code",
   "execution_count": 141,
   "metadata": {},
   "outputs": [],
   "source": [
    "results = soup.find_all('ul')\n",
    "results1 = soup1.find_all('h2')\n",
    "results2= soup2.find_all('h2')\n",
    "results3=soup3.find_all('h3')\n",
    "results4=soup3.find_all('strong')"
   ]
  },
  {
   "cell_type": "code",
   "execution_count": 142,
   "metadata": {},
   "outputs": [
    {
     "data": {
      "text/plain": [
       "13"
      ]
     },
     "execution_count": 142,
     "metadata": {},
     "output_type": "execute_result"
    }
   ],
   "source": [
    "len(results)\n",
    "len(results1)"
   ]
  },
  {
   "cell_type": "code",
   "execution_count": 143,
   "metadata": {},
   "outputs": [
    {
     "data": {
      "text/plain": [
       "[<h2 class=\"css-13i30ag\"><div><a name=\"overview\"> Safer fruits for diabetes</a></div></h2>,\n",
       " <h2><div><a name=\"glycemic-index\"> What is the glycemic\n",
       " index?</a></div></h2>,\n",
       " <h2><div><a name=\"cherries\"> 1. Cherries</a></div></h2>,\n",
       " <h2><div><a name=\"grapefruit\"> 2. Grapefruit</a></div></h2>,\n",
       " <h2><div><a name=\"dried-apricots\"> 3. Dried apricots</a></div></h2>,\n",
       " <h2><div><a name=\"pears\"> 4. Pears</a></div></h2>,\n",
       " <h2><div><a name=\"apples\"> 5. Apples</a></div></h2>,\n",
       " <h2><div><a name=\"oranges\"> 6. Oranges</a></div></h2>,\n",
       " <h2><div><a name=\"plums\"> 7. Plums</a></div></h2>,\n",
       " <h2><div><a name=\"strawberries\"> 8. Strawberries</a></div></h2>,\n",
       " <h2><div><a name=\"peaches\"> 9. Peaches</a></div></h2>,\n",
       " <h2><div><a name=\"grapes\"> 10. Grapes</a></div></h2>,\n",
       " <h2 class=\"css-11kr1sc\">related stories</h2>]"
      ]
     },
     "execution_count": 143,
     "metadata": {},
     "output_type": "execute_result"
    }
   ],
   "source": [
    "results1[0:500]"
   ]
  },
  {
   "cell_type": "code",
   "execution_count": 144,
   "metadata": {},
   "outputs": [
    {
     "data": {
      "text/plain": [
       "<ul class=\"css-17ztj4b\"><li class=\"css-uksoej\"><a class=\"css-143q8sx\" href=\"#best-vegetables\">Best vegetables</a></li><li class=\"css-uksoej\"><a class=\"css-143q8sx\" href=\"#why-choose-vegetables\">Why choose vegetables</a></li><li class=\"css-uksoej\"><a class=\"css-143q8sx\" href=\"#vegan-or-vegetarian\">Vegan or vegetarian</a></li><li class=\"css-uksoej\"><a class=\"css-143q8sx\" href=\"#meal-plan\">Meal plan</a></li></ul>"
      ]
     },
     "execution_count": 144,
     "metadata": {},
     "output_type": "execute_result"
    }
   ],
   "source": [
    "first_result = results[0]\n",
    "first_result\n"
   ]
  },
  {
   "cell_type": "code",
   "execution_count": 145,
   "metadata": {},
   "outputs": [
    {
     "data": {
      "text/plain": [
       "<li class=\"css-uksoej\"><a class=\"css-143q8sx\" href=\"#best-vegetables\">Best vegetables</a></li>"
      ]
     },
     "execution_count": 145,
     "metadata": {},
     "output_type": "execute_result"
    }
   ],
   "source": [
    "first_result.find('li')"
   ]
  },
  {
   "cell_type": "code",
   "execution_count": 146,
   "metadata": {},
   "outputs": [
    {
     "data": {
      "text/plain": [
       "[<li class=\"css-uksoej\"><a class=\"css-143q8sx\" href=\"#best-vegetables\">Best vegetables</a></li>,\n",
       " <li class=\"css-uksoej\"><a class=\"css-143q8sx\" href=\"#why-choose-vegetables\">Why choose vegetables</a></li>,\n",
       " <li class=\"css-uksoej\"><a class=\"css-143q8sx\" href=\"#vegan-or-vegetarian\">Vegan or vegetarian</a></li>,\n",
       " <li class=\"css-uksoej\"><a class=\"css-143q8sx\" href=\"#meal-plan\">Meal plan</a></li>]"
      ]
     },
     "execution_count": 146,
     "metadata": {},
     "output_type": "execute_result"
    }
   ],
   "source": [
    "first_result.contents"
   ]
  },
  {
   "cell_type": "code",
   "execution_count": 147,
   "metadata": {},
   "outputs": [],
   "source": [
    "records = []\n",
    "for result in results:\n",
    "    veg = result.contents[0:9]\n",
    "    records.append((veg))\n"
   ]
  },
  {
   "cell_type": "code",
   "execution_count": 148,
   "metadata": {},
   "outputs": [
    {
     "data": {
      "text/plain": [
       "12"
      ]
     },
     "execution_count": 148,
     "metadata": {},
     "output_type": "execute_result"
    }
   ],
   "source": [
    "len(records)"
   ]
  },
  {
   "cell_type": "code",
   "execution_count": 149,
   "metadata": {},
   "outputs": [
    {
     "data": {
      "text/plain": [
       "[[<li class=\"css-uksoej\"><a class=\"css-143q8sx\" href=\"#best-vegetables\">Best vegetables</a></li>,\n",
       "  <li class=\"css-uksoej\"><a class=\"css-143q8sx\" href=\"#why-choose-vegetables\">Why choose vegetables</a></li>,\n",
       "  <li class=\"css-uksoej\"><a class=\"css-143q8sx\" href=\"#vegan-or-vegetarian\">Vegan or vegetarian</a></li>,\n",
       "  <li class=\"css-uksoej\"><a class=\"css-143q8sx\" href=\"#meal-plan\">Meal plan</a></li>],\n",
       " [<li>Frozen green peas score 39 on the GI index.</li>,\n",
       "  <li><a class=\"content-link css-29oowu\" href=\"https://www.medicalnewstoday.com/articles/270191.php\">Carrots</a> score 41 when boiled and 16 when raw.</li>,\n",
       "  <li><a class=\"content-link css-29oowu\" href=\"https://www.medicalnewstoday.com/articles/266765.php\">Broccoli</a> scores 10.</li>,\n",
       "  <li>Tomatoes score 15.</li>],\n",
       " [<li>artichoke</li>,\n",
       "  <li><a class=\"content-link css-29oowu\" href=\"https://www.medicalnewstoday.com/articles/270805.php\">asparagus</a></li>,\n",
       "  <li>broccoli</li>,\n",
       "  <li><a class=\"content-link css-29oowu\" href=\"https://www.medicalnewstoday.com/articles/282844.php\">cauliflower</a></li>,\n",
       "  <li><a class=\"content-link css-29oowu\" href=\"https://www.medicalnewstoday.com/articles/285753.php\">green beans</a></li>,\n",
       "  <li>lettuce</li>,\n",
       "  <li><a class=\"content-link css-29oowu\" href=\"https://www.medicalnewstoday.com/articles/279359.php\">eggplant</a></li>,\n",
       "  <li>peppers</li>,\n",
       "  <li>snow peas</li>]]"
      ]
     },
     "execution_count": 149,
     "metadata": {},
     "output_type": "execute_result"
    }
   ],
   "source": [
    "records[0:3]"
   ]
  },
  {
   "cell_type": "code",
   "execution_count": 150,
   "metadata": {},
   "outputs": [],
   "source": [
    "import pandas as pd\n",
    "df = pd.DataFrame(records , columns=['veg','veg','veg','veg','veg','veg','veg','veg','veg'])"
   ]
  },
  {
   "cell_type": "code",
   "execution_count": 151,
   "metadata": {},
   "outputs": [
    {
     "data": {
      "text/html": [
       "<div>\n",
       "<style scoped>\n",
       "    .dataframe tbody tr th:only-of-type {\n",
       "        vertical-align: middle;\n",
       "    }\n",
       "\n",
       "    .dataframe tbody tr th {\n",
       "        vertical-align: top;\n",
       "    }\n",
       "\n",
       "    .dataframe thead th {\n",
       "        text-align: right;\n",
       "    }\n",
       "</style>\n",
       "<table border=\"1\" class=\"dataframe\">\n",
       "  <thead>\n",
       "    <tr style=\"text-align: right;\">\n",
       "      <th></th>\n",
       "      <th>veg</th>\n",
       "      <th>veg</th>\n",
       "      <th>veg</th>\n",
       "      <th>veg</th>\n",
       "      <th>veg</th>\n",
       "      <th>veg</th>\n",
       "      <th>veg</th>\n",
       "      <th>veg</th>\n",
       "      <th>veg</th>\n",
       "    </tr>\n",
       "  </thead>\n",
       "  <tbody>\n",
       "    <tr>\n",
       "      <th>0</th>\n",
       "      <td>[[Best vegetables]]</td>\n",
       "      <td>[[Why choose vegetables]]</td>\n",
       "      <td>[[Vegan or vegetarian]]</td>\n",
       "      <td>[[Meal plan]]</td>\n",
       "      <td>None</td>\n",
       "      <td>None</td>\n",
       "      <td>None</td>\n",
       "      <td>None</td>\n",
       "      <td>None</td>\n",
       "    </tr>\n",
       "    <tr>\n",
       "      <th>1</th>\n",
       "      <td>[Frozen green peas score 39 on the GI index.]</td>\n",
       "      <td>[[Carrots],  score 41 when boiled and 16 when ...</td>\n",
       "      <td>[[Broccoli],  scores 10.]</td>\n",
       "      <td>[Tomatoes score 15.]</td>\n",
       "      <td>None</td>\n",
       "      <td>None</td>\n",
       "      <td>None</td>\n",
       "      <td>None</td>\n",
       "      <td>None</td>\n",
       "    </tr>\n",
       "    <tr>\n",
       "      <th>2</th>\n",
       "      <td>[artichoke]</td>\n",
       "      <td>[[asparagus]]</td>\n",
       "      <td>[broccoli]</td>\n",
       "      <td>[[cauliflower]]</td>\n",
       "      <td>[[green beans]]</td>\n",
       "      <td>[lettuce]</td>\n",
       "      <td>[[eggplant]]</td>\n",
       "      <td>[peppers]</td>\n",
       "      <td>[snow peas]</td>\n",
       "    </tr>\n",
       "    <tr>\n",
       "      <th>3</th>\n",
       "      <td>[[arugula]]</td>\n",
       "      <td>[[beets],  and , [beet juice]]</td>\n",
       "      <td>[lettuce]</td>\n",
       "      <td>[celery]</td>\n",
       "      <td>[rhubarb]</td>\n",
       "      <td>None</td>\n",
       "      <td>None</td>\n",
       "      <td>None</td>\n",
       "      <td>None</td>\n",
       "    </tr>\n",
       "    <tr>\n",
       "      <th>4</th>\n",
       "      <td>[spinach]</td>\n",
       "      <td>[[bok choy]]</td>\n",
       "      <td>[asparagus]</td>\n",
       "      <td>[mustard greens]</td>\n",
       "      <td>[broccoli]</td>\n",
       "      <td>[[Brussels sprouts]]</td>\n",
       "      <td>[cauliflower]</td>\n",
       "      <td>None</td>\n",
       "      <td>None</td>\n",
       "    </tr>\n",
       "  </tbody>\n",
       "</table>\n",
       "</div>"
      ],
      "text/plain": [
       "                                             veg  \\\n",
       "0                            [[Best vegetables]]   \n",
       "1  [Frozen green peas score 39 on the GI index.]   \n",
       "2                                    [artichoke]   \n",
       "3                                    [[arugula]]   \n",
       "4                                      [spinach]   \n",
       "\n",
       "                                                 veg  \\\n",
       "0                          [[Why choose vegetables]]   \n",
       "1  [[Carrots],  score 41 when boiled and 16 when ...   \n",
       "2                                      [[asparagus]]   \n",
       "3                     [[beets],  and , [beet juice]]   \n",
       "4                                       [[bok choy]]   \n",
       "\n",
       "                         veg                   veg              veg  \\\n",
       "0    [[Vegan or vegetarian]]         [[Meal plan]]             None   \n",
       "1  [[Broccoli],  scores 10.]  [Tomatoes score 15.]             None   \n",
       "2                 [broccoli]       [[cauliflower]]  [[green beans]]   \n",
       "3                  [lettuce]              [celery]        [rhubarb]   \n",
       "4                [asparagus]      [mustard greens]       [broccoli]   \n",
       "\n",
       "                    veg            veg        veg          veg  \n",
       "0                  None           None       None         None  \n",
       "1                  None           None       None         None  \n",
       "2             [lettuce]   [[eggplant]]  [peppers]  [snow peas]  \n",
       "3                  None           None       None         None  \n",
       "4  [[Brussels sprouts]]  [cauliflower]       None         None  "
      ]
     },
     "execution_count": 151,
     "metadata": {},
     "output_type": "execute_result"
    }
   ],
   "source": [
    "df.head()"
   ]
  },
  {
   "cell_type": "code",
   "execution_count": 152,
   "metadata": {},
   "outputs": [
    {
     "data": {
      "text/html": [
       "<div>\n",
       "<style scoped>\n",
       "    .dataframe tbody tr th:only-of-type {\n",
       "        vertical-align: middle;\n",
       "    }\n",
       "\n",
       "    .dataframe tbody tr th {\n",
       "        vertical-align: top;\n",
       "    }\n",
       "\n",
       "    .dataframe thead th {\n",
       "        text-align: right;\n",
       "    }\n",
       "</style>\n",
       "<table border=\"1\" class=\"dataframe\">\n",
       "  <thead>\n",
       "    <tr style=\"text-align: right;\">\n",
       "      <th></th>\n",
       "      <th>veg</th>\n",
       "      <th>veg</th>\n",
       "      <th>veg</th>\n",
       "      <th>veg</th>\n",
       "      <th>veg</th>\n",
       "      <th>veg</th>\n",
       "      <th>veg</th>\n",
       "      <th>veg</th>\n",
       "      <th>veg</th>\n",
       "    </tr>\n",
       "  </thead>\n",
       "  <tbody>\n",
       "    <tr>\n",
       "      <th>7</th>\n",
       "      <td>[avocado, cherry tomato, and chickpea salad]</td>\n",
       "      <td>[hard-boiled eggs and roasted beets with black...</td>\n",
       "      <td>[low-sodium cottage cheese spread on toasted s...</td>\n",
       "      <td>[tofu burger patty with spinach and avocado]</td>\n",
       "      <td>[spinach salad with chia seeds, tomatoes, bell...</td>\n",
       "      <td>[quinoa and fruit added to unsweetened Greek y...</td>\n",
       "      <td>[quinoa with pepper or vinaigrette season, or ...</td>\n",
       "      <td>[almond butter on sprouted-grain bread with a ...</td>\n",
       "      <td>None</td>\n",
       "    </tr>\n",
       "    <tr>\n",
       "      <th>8</th>\n",
       "      <td>[[Diabetes]]</td>\n",
       "      <td>[[Type 2]]</td>\n",
       "      <td>[[Nutrition / Diet]]</td>\n",
       "      <td>[[Vegan / Vegetarian]]</td>\n",
       "      <td>None</td>\n",
       "      <td>None</td>\n",
       "      <td>None</td>\n",
       "      <td>None</td>\n",
       "      <td>None</td>\n",
       "    </tr>\n",
       "    <tr>\n",
       "      <th>9</th>\n",
       "      <td>[[[Diabetes research ‘breakthrough’ may open n...</td>\n",
       "      <td>[[[]], [[Non-insulin drugs for treating type 2...</td>\n",
       "      <td>[[View all, []]]</td>\n",
       "      <td>None</td>\n",
       "      <td>None</td>\n",
       "      <td>None</td>\n",
       "      <td>None</td>\n",
       "      <td>None</td>\n",
       "      <td>None</td>\n",
       "    </tr>\n",
       "    <tr>\n",
       "      <th>10</th>\n",
       "      <td>[[[&lt;div class=\"css-arlbvo\"&gt;&lt;div class=\"css-lm0...</td>\n",
       "      <td>[[[&lt;div class=\"css-arlbvo\"&gt;&lt;span class=\"css-zy...</td>\n",
       "      <td>[[[&lt;div class=\"css-arlbvo\"&gt;&lt;div class=\"css-lm0...</td>\n",
       "      <td>[[[&lt;div class=\"css-arlbvo\"&gt;&lt;div class=\"css-lm0...</td>\n",
       "      <td>None</td>\n",
       "      <td>None</td>\n",
       "      <td>None</td>\n",
       "      <td>None</td>\n",
       "      <td>None</td>\n",
       "    </tr>\n",
       "    <tr>\n",
       "      <th>11</th>\n",
       "      <td>[[Medical Review Team]]</td>\n",
       "      <td>[[Editorial Process]]</td>\n",
       "      <td>[[Content Directory]]</td>\n",
       "      <td>[[Knowledge Center]]</td>\n",
       "      <td>[[Ad Policy]]</td>\n",
       "      <td>[[Newsletters]]</td>\n",
       "      <td>[[Share our content]]</td>\n",
       "      <td>[[About us]]</td>\n",
       "      <td>[[Our editorial team]]</td>\n",
       "    </tr>\n",
       "  </tbody>\n",
       "</table>\n",
       "</div>"
      ],
      "text/plain": [
       "                                                  veg  \\\n",
       "7        [avocado, cherry tomato, and chickpea salad]   \n",
       "8                                        [[Diabetes]]   \n",
       "9   [[[Diabetes research ‘breakthrough’ may open n...   \n",
       "10  [[[<div class=\"css-arlbvo\"><div class=\"css-lm0...   \n",
       "11                            [[Medical Review Team]]   \n",
       "\n",
       "                                                  veg  \\\n",
       "7   [hard-boiled eggs and roasted beets with black...   \n",
       "8                                          [[Type 2]]   \n",
       "9   [[[]], [[Non-insulin drugs for treating type 2...   \n",
       "10  [[[<div class=\"css-arlbvo\"><span class=\"css-zy...   \n",
       "11                              [[Editorial Process]]   \n",
       "\n",
       "                                                  veg  \\\n",
       "7   [low-sodium cottage cheese spread on toasted s...   \n",
       "8                                [[Nutrition / Diet]]   \n",
       "9                                    [[View all, []]]   \n",
       "10  [[[<div class=\"css-arlbvo\"><div class=\"css-lm0...   \n",
       "11                              [[Content Directory]]   \n",
       "\n",
       "                                                  veg  \\\n",
       "7        [tofu burger patty with spinach and avocado]   \n",
       "8                              [[Vegan / Vegetarian]]   \n",
       "9                                                None   \n",
       "10  [[[<div class=\"css-arlbvo\"><div class=\"css-lm0...   \n",
       "11                               [[Knowledge Center]]   \n",
       "\n",
       "                                                  veg  \\\n",
       "7   [spinach salad with chia seeds, tomatoes, bell...   \n",
       "8                                                None   \n",
       "9                                                None   \n",
       "10                                               None   \n",
       "11                                      [[Ad Policy]]   \n",
       "\n",
       "                                                  veg  \\\n",
       "7   [quinoa and fruit added to unsweetened Greek y...   \n",
       "8                                                None   \n",
       "9                                                None   \n",
       "10                                               None   \n",
       "11                                    [[Newsletters]]   \n",
       "\n",
       "                                                  veg  \\\n",
       "7   [quinoa with pepper or vinaigrette season, or ...   \n",
       "8                                                None   \n",
       "9                                                None   \n",
       "10                                               None   \n",
       "11                              [[Share our content]]   \n",
       "\n",
       "                                                  veg                     veg  \n",
       "7   [almond butter on sprouted-grain bread with a ...                    None  \n",
       "8                                                None                    None  \n",
       "9                                                None                    None  \n",
       "10                                               None                    None  \n",
       "11                                       [[About us]]  [[Our editorial team]]  "
      ]
     },
     "execution_count": 152,
     "metadata": {},
     "output_type": "execute_result"
    }
   ],
   "source": [
    "df.tail()"
   ]
  },
  {
   "cell_type": "code",
   "execution_count": 153,
   "metadata": {},
   "outputs": [],
   "source": [
    "records1 = []\n",
    "for result in results1:\n",
    "    fruits = result.contents[0:1]\n",
    "    records1.append((fruits))"
   ]
  },
  {
   "cell_type": "code",
   "execution_count": 154,
   "metadata": {},
   "outputs": [],
   "source": [
    "import pandas as pd\n",
    "df = pd.DataFrame(records1 , columns=['fruits'])"
   ]
  },
  {
   "cell_type": "code",
   "execution_count": 155,
   "metadata": {},
   "outputs": [
    {
     "data": {
      "text/html": [
       "<div>\n",
       "<style scoped>\n",
       "    .dataframe tbody tr th:only-of-type {\n",
       "        vertical-align: middle;\n",
       "    }\n",
       "\n",
       "    .dataframe tbody tr th {\n",
       "        vertical-align: top;\n",
       "    }\n",
       "\n",
       "    .dataframe thead th {\n",
       "        text-align: right;\n",
       "    }\n",
       "</style>\n",
       "<table border=\"1\" class=\"dataframe\">\n",
       "  <thead>\n",
       "    <tr style=\"text-align: right;\">\n",
       "      <th></th>\n",
       "      <th>fruits</th>\n",
       "    </tr>\n",
       "  </thead>\n",
       "  <tbody>\n",
       "    <tr>\n",
       "      <th>0</th>\n",
       "      <td>[[ Safer fruits for diabetes]]</td>\n",
       "    </tr>\n",
       "    <tr>\n",
       "      <th>1</th>\n",
       "      <td>[[ What is the glycemic\\nindex?]]</td>\n",
       "    </tr>\n",
       "    <tr>\n",
       "      <th>2</th>\n",
       "      <td>[[ 1. Cherries]]</td>\n",
       "    </tr>\n",
       "    <tr>\n",
       "      <th>3</th>\n",
       "      <td>[[ 2. Grapefruit]]</td>\n",
       "    </tr>\n",
       "    <tr>\n",
       "      <th>4</th>\n",
       "      <td>[[ 3. Dried apricots]]</td>\n",
       "    </tr>\n",
       "  </tbody>\n",
       "</table>\n",
       "</div>"
      ],
      "text/plain": [
       "                              fruits\n",
       "0     [[ Safer fruits for diabetes]]\n",
       "1  [[ What is the glycemic\\nindex?]]\n",
       "2                   [[ 1. Cherries]]\n",
       "3                 [[ 2. Grapefruit]]\n",
       "4             [[ 3. Dried apricots]]"
      ]
     },
     "execution_count": 155,
     "metadata": {},
     "output_type": "execute_result"
    }
   ],
   "source": [
    "df.head()"
   ]
  },
  {
   "cell_type": "code",
   "execution_count": 156,
   "metadata": {},
   "outputs": [
    {
     "data": {
      "text/html": [
       "<div>\n",
       "<style scoped>\n",
       "    .dataframe tbody tr th:only-of-type {\n",
       "        vertical-align: middle;\n",
       "    }\n",
       "\n",
       "    .dataframe tbody tr th {\n",
       "        vertical-align: top;\n",
       "    }\n",
       "\n",
       "    .dataframe thead th {\n",
       "        text-align: right;\n",
       "    }\n",
       "</style>\n",
       "<table border=\"1\" class=\"dataframe\">\n",
       "  <thead>\n",
       "    <tr style=\"text-align: right;\">\n",
       "      <th></th>\n",
       "      <th>fruits</th>\n",
       "    </tr>\n",
       "  </thead>\n",
       "  <tbody>\n",
       "    <tr>\n",
       "      <th>8</th>\n",
       "      <td>[[ 7. Plums]]</td>\n",
       "    </tr>\n",
       "    <tr>\n",
       "      <th>9</th>\n",
       "      <td>[[ 8. Strawberries]]</td>\n",
       "    </tr>\n",
       "    <tr>\n",
       "      <th>10</th>\n",
       "      <td>[[ 9. Peaches]]</td>\n",
       "    </tr>\n",
       "    <tr>\n",
       "      <th>11</th>\n",
       "      <td>[[ 10. Grapes]]</td>\n",
       "    </tr>\n",
       "    <tr>\n",
       "      <th>12</th>\n",
       "      <td>related stories</td>\n",
       "    </tr>\n",
       "  </tbody>\n",
       "</table>\n",
       "</div>"
      ],
      "text/plain": [
       "                  fruits\n",
       "8          [[ 7. Plums]]\n",
       "9   [[ 8. Strawberries]]\n",
       "10       [[ 9. Peaches]]\n",
       "11       [[ 10. Grapes]]\n",
       "12       related stories"
      ]
     },
     "execution_count": 156,
     "metadata": {},
     "output_type": "execute_result"
    }
   ],
   "source": [
    "df.tail()"
   ]
  },
  {
   "cell_type": "code",
   "execution_count": 157,
   "metadata": {},
   "outputs": [],
   "source": [
    "records2 = []\n",
    "for result in results2:\n",
    "    nuts = result.contents[0:1]\n",
    "    records2.append((nuts))"
   ]
  },
  {
   "cell_type": "code",
   "execution_count": 158,
   "metadata": {},
   "outputs": [],
   "source": [
    "import pandas as pd\n",
    "df = pd.DataFrame(records2 , columns=['nuts(unsalted)'])"
   ]
  },
  {
   "cell_type": "code",
   "execution_count": 159,
   "metadata": {},
   "outputs": [
    {
     "data": {
      "text/html": [
       "<div>\n",
       "<style scoped>\n",
       "    .dataframe tbody tr th:only-of-type {\n",
       "        vertical-align: middle;\n",
       "    }\n",
       "\n",
       "    .dataframe tbody tr th {\n",
       "        vertical-align: top;\n",
       "    }\n",
       "\n",
       "    .dataframe thead th {\n",
       "        text-align: right;\n",
       "    }\n",
       "</style>\n",
       "<table border=\"1\" class=\"dataframe\">\n",
       "  <thead>\n",
       "    <tr style=\"text-align: right;\">\n",
       "      <th></th>\n",
       "      <th>nuts(unsalted)</th>\n",
       "    </tr>\n",
       "  </thead>\n",
       "  <tbody>\n",
       "    <tr>\n",
       "      <th>0</th>\n",
       "      <td>[[Why are nuts useful for diabetes?]]</td>\n",
       "    </tr>\n",
       "    <tr>\n",
       "      <th>1</th>\n",
       "      <td>[[Almonds]]</td>\n",
       "    </tr>\n",
       "    <tr>\n",
       "      <th>2</th>\n",
       "      <td>[[Walnuts]]</td>\n",
       "    </tr>\n",
       "    <tr>\n",
       "      <th>3</th>\n",
       "      <td>[[Cashews]]</td>\n",
       "    </tr>\n",
       "    <tr>\n",
       "      <th>4</th>\n",
       "      <td>[[Pistachios]]</td>\n",
       "    </tr>\n",
       "  </tbody>\n",
       "</table>\n",
       "</div>"
      ],
      "text/plain": [
       "                          nuts(unsalted)\n",
       "0  [[Why are nuts useful for diabetes?]]\n",
       "1                            [[Almonds]]\n",
       "2                            [[Walnuts]]\n",
       "3                            [[Cashews]]\n",
       "4                         [[Pistachios]]"
      ]
     },
     "execution_count": 159,
     "metadata": {},
     "output_type": "execute_result"
    }
   ],
   "source": [
    "df.head()"
   ]
  },
  {
   "cell_type": "code",
   "execution_count": 160,
   "metadata": {},
   "outputs": [
    {
     "data": {
      "text/html": [
       "<div>\n",
       "<style scoped>\n",
       "    .dataframe tbody tr th:only-of-type {\n",
       "        vertical-align: middle;\n",
       "    }\n",
       "\n",
       "    .dataframe tbody tr th {\n",
       "        vertical-align: top;\n",
       "    }\n",
       "\n",
       "    .dataframe thead th {\n",
       "        text-align: right;\n",
       "    }\n",
       "</style>\n",
       "<table border=\"1\" class=\"dataframe\">\n",
       "  <thead>\n",
       "    <tr style=\"text-align: right;\">\n",
       "      <th></th>\n",
       "      <th>nuts(unsalted)</th>\n",
       "    </tr>\n",
       "  </thead>\n",
       "  <tbody>\n",
       "    <tr>\n",
       "      <th>3</th>\n",
       "      <td>[[Cashews]]</td>\n",
       "    </tr>\n",
       "    <tr>\n",
       "      <th>4</th>\n",
       "      <td>[[Pistachios]]</td>\n",
       "    </tr>\n",
       "    <tr>\n",
       "      <th>5</th>\n",
       "      <td>[[Peanuts]]</td>\n",
       "    </tr>\n",
       "    <tr>\n",
       "      <th>6</th>\n",
       "      <td>[[Takeaway]]</td>\n",
       "    </tr>\n",
       "    <tr>\n",
       "      <th>7</th>\n",
       "      <td>Latest news</td>\n",
       "    </tr>\n",
       "  </tbody>\n",
       "</table>\n",
       "</div>"
      ],
      "text/plain": [
       "   nuts(unsalted)\n",
       "3     [[Cashews]]\n",
       "4  [[Pistachios]]\n",
       "5     [[Peanuts]]\n",
       "6    [[Takeaway]]\n",
       "7     Latest news"
      ]
     },
     "execution_count": 160,
     "metadata": {},
     "output_type": "execute_result"
    }
   ],
   "source": [
    "df.tail()"
   ]
  },
  {
   "cell_type": "code",
   "execution_count": 161,
   "metadata": {},
   "outputs": [],
   "source": [
    "records3 = []\n",
    "for result in results3:\n",
    "    dairy = result.contents[0:9]\n",
    "    records3.append((dairy))"
   ]
  },
  {
   "cell_type": "code",
   "execution_count": 162,
   "metadata": {},
   "outputs": [],
   "source": [
    "import pandas as pd\n",
    "df = pd.DataFrame(records3 , columns=['dairy products'])"
   ]
  },
  {
   "cell_type": "code",
   "execution_count": 163,
   "metadata": {},
   "outputs": [
    {
     "data": {
      "text/html": [
       "<div>\n",
       "<style scoped>\n",
       "    .dataframe tbody tr th:only-of-type {\n",
       "        vertical-align: middle;\n",
       "    }\n",
       "\n",
       "    .dataframe tbody tr th {\n",
       "        vertical-align: top;\n",
       "    }\n",
       "\n",
       "    .dataframe thead th {\n",
       "        text-align: right;\n",
       "    }\n",
       "</style>\n",
       "<table border=\"1\" class=\"dataframe\">\n",
       "  <thead>\n",
       "    <tr style=\"text-align: right;\">\n",
       "      <th></th>\n",
       "      <th>dairy products</th>\n",
       "    </tr>\n",
       "  </thead>\n",
       "  <tbody>\n",
       "    <tr>\n",
       "      <th>0</th>\n",
       "      <td>Greek Yogurt</td>\n",
       "    </tr>\n",
       "    <tr>\n",
       "      <th>1</th>\n",
       "      <td>String Cheese</td>\n",
       "    </tr>\n",
       "    <tr>\n",
       "      <th>2</th>\n",
       "      <td>Grass-Fed Dairy</td>\n",
       "    </tr>\n",
       "    <tr>\n",
       "      <th>3</th>\n",
       "      <td>Fat-Free Milk</td>\n",
       "    </tr>\n",
       "    <tr>\n",
       "      <th>4</th>\n",
       "      <td>Sweetened Dairy Products</td>\n",
       "    </tr>\n",
       "  </tbody>\n",
       "</table>\n",
       "</div>"
      ],
      "text/plain": [
       "             dairy products\n",
       "0              Greek Yogurt\n",
       "1             String Cheese\n",
       "2           Grass-Fed Dairy\n",
       "3             Fat-Free Milk\n",
       "4  Sweetened Dairy Products"
      ]
     },
     "execution_count": 163,
     "metadata": {},
     "output_type": "execute_result"
    }
   ],
   "source": [
    "df.head()"
   ]
  },
  {
   "cell_type": "code",
   "execution_count": 164,
   "metadata": {},
   "outputs": [],
   "source": [
    "records4 = []\n",
    "for result in results4:\n",
    "    fiber = result.contents[0:9]\n",
    "    records4.append((fiber))"
   ]
  },
  {
   "cell_type": "code",
   "execution_count": 165,
   "metadata": {},
   "outputs": [],
   "source": [
    "import pandas as pd\n",
    "df = pd.DataFrame(records4 , columns=['fiber rich foods'])"
   ]
  },
  {
   "cell_type": "code",
   "execution_count": 166,
   "metadata": {},
   "outputs": [
    {
     "data": {
      "text/html": [
       "<div>\n",
       "<style scoped>\n",
       "    .dataframe tbody tr th:only-of-type {\n",
       "        vertical-align: middle;\n",
       "    }\n",
       "\n",
       "    .dataframe tbody tr th {\n",
       "        vertical-align: top;\n",
       "    }\n",
       "\n",
       "    .dataframe thead th {\n",
       "        text-align: right;\n",
       "    }\n",
       "</style>\n",
       "<table border=\"1\" class=\"dataframe\">\n",
       "  <thead>\n",
       "    <tr style=\"text-align: right;\">\n",
       "      <th></th>\n",
       "      <th>fiber rich foods</th>\n",
       "    </tr>\n",
       "  </thead>\n",
       "  <tbody>\n",
       "    <tr>\n",
       "      <th>0</th>\n",
       "      <td>RELATED:</td>\n",
       "    </tr>\n",
       "    <tr>\n",
       "      <th>1</th>\n",
       "      <td>[The Best and Worst Foods to Eat in a Type 2 D...</td>\n",
       "    </tr>\n",
       "  </tbody>\n",
       "</table>\n",
       "</div>"
      ],
      "text/plain": [
       "                                    fiber rich foods\n",
       "0                                          RELATED: \n",
       "1  [The Best and Worst Foods to Eat in a Type 2 D..."
      ]
     },
     "execution_count": 166,
     "metadata": {},
     "output_type": "execute_result"
    }
   ],
   "source": [
    "df.head()"
   ]
  },
  {
   "cell_type": "code",
   "execution_count": 167,
   "metadata": {},
   "outputs": [
    {
     "data": {
      "text/html": [
       "<div>\n",
       "<style scoped>\n",
       "    .dataframe tbody tr th:only-of-type {\n",
       "        vertical-align: middle;\n",
       "    }\n",
       "\n",
       "    .dataframe tbody tr th {\n",
       "        vertical-align: top;\n",
       "    }\n",
       "\n",
       "    .dataframe thead th {\n",
       "        text-align: right;\n",
       "    }\n",
       "</style>\n",
       "<table border=\"1\" class=\"dataframe\">\n",
       "  <thead>\n",
       "    <tr style=\"text-align: right;\">\n",
       "      <th></th>\n",
       "      <th>fiber rich foods</th>\n",
       "    </tr>\n",
       "  </thead>\n",
       "  <tbody>\n",
       "    <tr>\n",
       "      <th>0</th>\n",
       "      <td>RELATED:</td>\n",
       "    </tr>\n",
       "    <tr>\n",
       "      <th>1</th>\n",
       "      <td>[The Best and Worst Foods to Eat in a Type 2 D...</td>\n",
       "    </tr>\n",
       "  </tbody>\n",
       "</table>\n",
       "</div>"
      ],
      "text/plain": [
       "                                    fiber rich foods\n",
       "0                                          RELATED: \n",
       "1  [The Best and Worst Foods to Eat in a Type 2 D..."
      ]
     },
     "execution_count": 167,
     "metadata": {},
     "output_type": "execute_result"
    }
   ],
   "source": [
    "df.tail()"
   ]
  },
  {
   "cell_type": "code",
   "execution_count": 168,
   "metadata": {},
   "outputs": [
    {
     "name": "stdout",
     "output_type": "stream",
     "text": [
      "                                    fiber rich foods\n",
      "0                                          RELATED: \n",
      "1  [The Best and Worst Foods to Eat in a Type 2 D...\n"
     ]
    }
   ],
   "source": [
    "print(df)"
   ]
  },
  {
   "cell_type": "code",
   "execution_count": null,
   "metadata": {},
   "outputs": [],
   "source": []
  }
 ],
 "metadata": {
  "kernelspec": {
   "display_name": "Python 3",
   "language": "python",
   "name": "python3"
  },
  "language_info": {
   "codemirror_mode": {
    "name": "ipython",
    "version": 3
   },
   "file_extension": ".py",
   "mimetype": "text/x-python",
   "name": "python",
   "nbconvert_exporter": "python",
   "pygments_lexer": "ipython3",
   "version": "3.8.3rc1"
  }
 },
 "nbformat": 4,
 "nbformat_minor": 4
}
